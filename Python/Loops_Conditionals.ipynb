{
 "cells": [
  {
   "cell_type": "markdown",
   "id": "6b678e22",
   "metadata": {},
   "source": [
    "## Branching using if-elif-else\n",
    "### Python gives us if, elif(which is if+else) and else statements to do branching operations, where there can be multiple elif checkpoints."
   ]
  },
  {
   "cell_type": "code",
   "execution_count": 5,
   "id": "4d9dce62",
   "metadata": {},
   "outputs": [
    {
     "name": "stdout",
     "output_type": "stream",
     "text": [
      "You are not eligible for free shipping, please add some more! Thanks.\n"
     ]
    }
   ],
   "source": [
    "item1 = 200\n",
    "item2 = 400\n",
    "if (item1+item2) > 500 and (item1+item2) < 600:\n",
    "    print(\"Your Item is eligible for free shipping.\")\n",
    "elif(item1+item2) > 600:\n",
    "    extra_amount = 600 - (item1+item2)\n",
    "    print(f\"Please add {extra_amount}Rs. to be eligible for free shipping. Thanks!\") # fString or formatted String\n",
    "else:\n",
    "    print(\"You are not eligible for free shipping, please add some more! Thanks.\")"
   ]
  },
  {
   "cell_type": "code",
   "execution_count": 6,
   "id": "8da8ddf3",
   "metadata": {},
   "outputs": [
    {
     "name": "stdout",
     "output_type": "stream",
     "text": [
      "Both condtion are true\n"
     ]
    }
   ],
   "source": [
    "a=400\n",
    "b=333\n",
    "c=800\n",
    "\n",
    "if a>b and c>a:\n",
    "    print('Both condtion are true')\n",
    "else:\n",
    "    print('Both condion are wrong')"
   ]
  },
  {
   "cell_type": "code",
   "execution_count": 7,
   "id": "b113df3b",
   "metadata": {},
   "outputs": [
    {
     "name": "stdout",
     "output_type": "stream",
     "text": [
      "Both condition are true\n"
     ]
    }
   ],
   "source": [
    "# We can write the same code in other way too(in one linear syntax)\n",
    "print(\"Both condition are true\") if (a>b and c>a) else print(\"Both condition are wrong\")"
   ]
  },
  {
   "cell_type": "code",
   "execution_count": 8,
   "id": "79c3025b",
   "metadata": {},
   "outputs": [
    {
     "name": "stdout",
     "output_type": "stream",
     "text": [
      "Enter your marks --> 54\n",
      "54 Just passed\n"
     ]
    }
   ],
   "source": [
    "marks = int(input(\"Enter your marks --> \"))\n",
    "\n",
    "if marks <= 34:\n",
    "    print(marks,\"Failed!\")\n",
    "elif marks > 34:\n",
    "    print(marks,\"Just passed\")\n",
    "elif marks >= 49:\n",
    "    print(marks,\"Saticfactory\")\n",
    "elif marks >= 60:\n",
    "    print(marks,\"Second Division\")\n",
    "elif marks >= 75:\n",
    "    print(marks,\"First Division\")\n",
    "else:\n",
    "    print(marks,\"Great. Secured Distinction!\")"
   ]
  },
  {
   "cell_type": "code",
   "execution_count": 9,
   "id": "bb89acbc",
   "metadata": {},
   "outputs": [
    {
     "name": "stdout",
     "output_type": "stream",
     "text": [
      "Enter your marks -->12\n",
      "12 Fail. Better luck next time.\n"
     ]
    }
   ],
   "source": [
    "marks = int(input('Enter your marks -->'))\n",
    "\n",
    "if marks>=60:\n",
    "    if  marks>70:\n",
    "        print(marks,'Distiction')\n",
    "    else:\n",
    "        print(marks,'First Division')\n",
    "elif marks>35:\n",
    "    print(marks,'Just pass')\n",
    "elif marks>=50 and marks<60:\n",
    "    print(marks,'Second Division')\n",
    "else:\n",
    "    print(marks,'Fail. Better luck next time.')"
   ]
  },
  {
   "cell_type": "markdown",
   "id": "74b139ed",
   "metadata": {},
   "source": [
    "### Range Function\n",
    "#### Python range() function is used to print sequence of numbers \n",
    "#### within a given range [a starting point, a stopping point and step size]\n",
    "#### Step size indicates interval between each number within the given range "
   ]
  },
  {
   "cell_type": "code",
   "execution_count": 10,
   "id": "87c48831",
   "metadata": {},
   "outputs": [
    {
     "name": "stdout",
     "output_type": "stream",
     "text": [
      "range(0, 10)\n"
     ]
    }
   ],
   "source": [
    "print(range(0,10,1)) # By default range() provides starting point as 0 and step size as 1"
   ]
  },
  {
   "cell_type": "code",
   "execution_count": 11,
   "id": "4c1c3cec",
   "metadata": {},
   "outputs": [
    {
     "name": "stdout",
     "output_type": "stream",
     "text": [
      "[0, 1, 2, 3, 4, 5, 6, 7, 8, 9]\n"
     ]
    }
   ],
   "source": [
    "# Print range in list\n",
    "print(list(range(0,10,1)))"
   ]
  },
  {
   "cell_type": "code",
   "execution_count": 12,
   "id": "5636a39b",
   "metadata": {},
   "outputs": [
    {
     "name": "stdout",
     "output_type": "stream",
     "text": [
      "[100, 102, 104, 106, 108, 110, 112, 114, 116, 118, 120, 122, 124, 126, 128, 130, 132, 134, 136, 138, 140, 142, 144, 146, 148, 150, 152, 154, 156, 158, 160, 162, 164, 166, 168, 170, 172, 174, 176, 178, 180, 182, 184, 186, 188, 190, 192, 194, 196, 198]\n"
     ]
    }
   ],
   "source": [
    "print(list(range(100,200,2)))"
   ]
  },
  {
   "cell_type": "code",
   "execution_count": 13,
   "id": "ca2bc788",
   "metadata": {},
   "outputs": [
    {
     "name": "stdout",
     "output_type": "stream",
     "text": [
      "[200, 195, 190, 185, 180, 175, 170, 165, 160, 155, 150, 145, 140, 135, 130, 125, 120, 115, 110, 105, 100]\n"
     ]
    }
   ],
   "source": [
    "reverse_list = print(list(range(200,99,-5)))"
   ]
  },
  {
   "cell_type": "markdown",
   "id": "e8ea8e2c",
   "metadata": {},
   "source": [
    "### Looping in Python => A loop is required when we want to repeat a set of statements in a program or when we want to iterate over some sequence."
   ]
  },
  {
   "cell_type": "markdown",
   "id": "b65e8048",
   "metadata": {},
   "source": [
    "#### For Loop :-  In Python, a for loop is used to iterate over sequences such as lists, strings, tuples, etc."
   ]
  },
  {
   "cell_type": "code",
   "execution_count": 14,
   "id": "72e25e92",
   "metadata": {},
   "outputs": [
    {
     "name": "stdout",
     "output_type": "stream",
     "text": [
      "Karnataka\n",
      "Delhi\n",
      "Madhya Pradesh\n",
      "Bihar\n",
      "West Bengal\n"
     ]
    }
   ],
   "source": [
    "# FOR LOOP\n",
    "States = [\"Karnataka\",\"Delhi\",\"Madhya Pradesh\",\"Bihar\",\"West Bengal\"]\n",
    "for state in States:\n",
    "    print(state)"
   ]
  },
  {
   "cell_type": "code",
   "execution_count": 15,
   "id": "81985f46",
   "metadata": {},
   "outputs": [
    {
     "name": "stdout",
     "output_type": "stream",
     "text": [
      "41 Just pass\n"
     ]
    }
   ],
   "source": [
    "import random\n",
    "student_marks = list()\n",
    "student_marks.append(random.randint(30,91))\n",
    "for marks in student_marks:\n",
    "    if marks>=60:\n",
    "        if  marks>70:\n",
    "            print(marks,'Distiction')\n",
    "        else:\n",
    "            print(marks,'First Division')\n",
    "    elif marks>=35 and marks<50:\n",
    "        print(marks,'Just pass')\n",
    "    elif marks>=50 and marks<60:\n",
    "        print(marks,'Second Division')\n",
    "    else:\n",
    "        print(marks,'Failed. Better luck next time.')"
   ]
  },
  {
   "cell_type": "code",
   "execution_count": 16,
   "id": "afccb12a",
   "metadata": {},
   "outputs": [
    {
     "name": "stdout",
     "output_type": "stream",
     "text": [
      "Multiplication Table for 1\n",
      "------------------------------\n",
      "1 X 1 =  1\n",
      "1 X 2 =  2\n",
      "1 X 3 =  3\n",
      "1 X 4 =  4\n",
      "1 X 5 =  5\n",
      "1 X 6 =  6\n",
      "1 X 7 =  7\n",
      "1 X 8 =  8\n",
      "1 X 9 =  9\n",
      "1 X 10 =  10\n",
      "\n",
      "Multiplication Table for 2\n",
      "------------------------------\n",
      "2 X 1 =  2\n",
      "2 X 2 =  4\n",
      "2 X 3 =  6\n",
      "2 X 4 =  8\n",
      "2 X 5 =  10\n",
      "2 X 6 =  12\n",
      "2 X 7 =  14\n",
      "2 X 8 =  16\n",
      "2 X 9 =  18\n",
      "2 X 10 =  20\n",
      "\n",
      "Multiplication Table for 3\n",
      "------------------------------\n",
      "3 X 1 =  3\n",
      "3 X 2 =  6\n",
      "3 X 3 =  9\n",
      "3 X 4 =  12\n",
      "3 X 5 =  15\n",
      "3 X 6 =  18\n",
      "3 X 7 =  21\n",
      "3 X 8 =  24\n",
      "3 X 9 =  27\n",
      "3 X 10 =  30\n",
      "\n",
      "Multiplication Table for 4\n",
      "------------------------------\n",
      "4 X 1 =  4\n",
      "4 X 2 =  8\n",
      "4 X 3 =  12\n",
      "4 X 4 =  16\n",
      "4 X 5 =  20\n",
      "4 X 6 =  24\n",
      "4 X 7 =  28\n",
      "4 X 8 =  32\n",
      "4 X 9 =  36\n",
      "4 X 10 =  40\n",
      "\n",
      "Multiplication Table for 5\n",
      "------------------------------\n",
      "5 X 1 =  5\n",
      "5 X 2 =  10\n",
      "5 X 3 =  15\n",
      "5 X 4 =  20\n",
      "5 X 5 =  25\n",
      "5 X 6 =  30\n",
      "5 X 7 =  35\n",
      "5 X 8 =  40\n",
      "5 X 9 =  45\n",
      "5 X 10 =  50\n",
      "\n",
      "============================================================\n",
      "Successfully printed multiplication table of first 5 digits\n",
      "============================================================\n"
     ]
    }
   ],
   "source": [
    "# MULTIPLICATION TABLE WITH FOR LOOP. USING for LOOP WITH else\n",
    "for i in range(1,6):\n",
    "    print(\"Multiplication Table for\",i)\n",
    "    print('--'*15)\n",
    "    for j in range(1,11):\n",
    "        print(f\"{i} X {j} = \",i * j)\n",
    "    if j==10:\n",
    "        print(\"\",end=\"\\n\") # or print('\\n')\n",
    "else:\n",
    "    print('='*60)\n",
    "    print(\"Successfully printed multiplication table of first 5 digits\")\n",
    "    print('='*60)"
   ]
  },
  {
   "cell_type": "markdown",
   "id": "d0bb1358",
   "metadata": {},
   "source": [
    "#### While Loop :- In Python while loop construct, the condition is checked at first and if it is evaluated as True, then only the     body of the loop executes, and continue to executing until the condition evalutes to False."
   ]
  },
  {
   "cell_type": "code",
   "execution_count": 17,
   "id": "4eb63608",
   "metadata": {},
   "outputs": [
    {
     "name": "stdout",
     "output_type": "stream",
     "text": [
      "7 X 0 = 0\n",
      "7 X 1 = 7\n",
      "7 X 2 = 14\n",
      "7 X 3 = 21\n",
      "7 X 4 = 28\n",
      "7 X 5 = 35\n",
      "7 X 6 = 42\n",
      "7 X 7 = 49\n",
      "7 X 8 = 56\n",
      "7 X 9 = 63\n",
      "7 X 10 = 70\n"
     ]
    }
   ],
   "source": [
    "# While Loop\n",
    "num = 7\n",
    "i = 0\n",
    "while i<=10:\n",
    "    print(f\"{num} X {i} =\",num*i)\n",
    "    i += 1"
   ]
  },
  {
   "cell_type": "code",
   "execution_count": 18,
   "id": "98757c51",
   "metadata": {},
   "outputs": [],
   "source": [
    "import time\n",
    "result = time.localtime()"
   ]
  },
  {
   "cell_type": "code",
   "execution_count": 19,
   "id": "47144b24",
   "metadata": {},
   "outputs": [
    {
     "name": "stdout",
     "output_type": "stream",
     "text": [
      "Reached time limit!\n"
     ]
    }
   ],
   "source": [
    "while True:\n",
    "    result = time.localtime()\n",
    "    if result.tm_hour == 10 and result.tm_min == 38:\n",
    "        print(\"Reached time limit!\")\n",
    "        break"
   ]
  },
  {
   "cell_type": "markdown",
   "id": "50eb24de",
   "metadata": {},
   "source": [
    "### List Comprehension, enumerate() and zip() / unzip\n",
    "#### One of Python’s most distinctive features is the list comprehension, which we can use to create powerful functionality within a single line of code. But too much use of it can make the code harder to read and also less efficient.\n",
    "#### The enumerate() function adds a counter to an iterable and returns it as an enumerate object (iterator with index and the value).\n",
    "#### The zip() function returns a zip object, which is an iterator of tuples where the first item in each passed iterator is paired together, and then the second item in each passed iterator are paired together etc. If the passed iterables have different lengths, the iterable with the least items decides the length of the new iterator."
   ]
  },
  {
   "cell_type": "code",
   "execution_count": 20,
   "id": "457006d2",
   "metadata": {},
   "outputs": [
    {
     "data": {
      "text/plain": [
       "[4420.0, 7020.0]"
      ]
     },
     "execution_count": 20,
     "metadata": {},
     "output_type": "execute_result"
    }
   ],
   "source": [
    "# List comprehension\n",
    "salary = [10000,23000,32000,3400,5400]\n",
    "salary  = [(sal+sal*.30) for sal in salary if sal < 6000] # 30% hike in salary if salary less than 6000\n",
    "salary"
   ]
  },
  {
   "cell_type": "code",
   "execution_count": 21,
   "id": "909a84e3",
   "metadata": {},
   "outputs": [
    {
     "name": "stdout",
     "output_type": "stream",
     "text": [
      "(0, 'Sayantan')\n",
      "(1, 'Manvir')\n",
      "(2, 'Prabir')\n",
      "(3, 'Roy')\n",
      "(4, 'Subhashis')\n"
     ]
    }
   ],
   "source": [
    "students = ['Sayantan','Manvir','Prabir','Roy','Subhashis']\n",
    "for student in enumerate(students):\n",
    "    print(student)"
   ]
  },
  {
   "cell_type": "code",
   "execution_count": 22,
   "id": "ba6fab6d",
   "metadata": {},
   "outputs": [
    {
     "name": "stdout",
     "output_type": "stream",
     "text": [
      "1 Sayantan\n",
      "2 Manvir\n",
      "3 Prabir\n",
      "4 Roy\n",
      "5 Subhashis\n"
     ]
    }
   ],
   "source": [
    "for index,student in enumerate(students,start=1): # manipulate the enumerate object by mentioning starting index\n",
    "    print(index,student) # printing both of the iterator --> index and the value"
   ]
  },
  {
   "cell_type": "code",
   "execution_count": 23,
   "id": "48a8590c",
   "metadata": {},
   "outputs": [
    {
     "name": "stdout",
     "output_type": "stream",
     "text": [
      "[('India', 456), ('Pakistan', 432), ('England', 123), ('West Indies', 234), ('South Africa', 543)]\n"
     ]
    }
   ],
   "source": [
    "team_scores = [456,432,123,234,543]\n",
    "team_names = ['India','Pakistan','England','West Indies','South Africa']\n",
    "team_totals = print(list(zip(team_names,team_scores)))"
   ]
  },
  {
   "cell_type": "code",
   "execution_count": 24,
   "id": "fcf677c2",
   "metadata": {},
   "outputs": [
    {
     "name": "stdout",
     "output_type": "stream",
     "text": [
      "The unzipped result -->\n",
      "------------------------------\n",
      "The name list :  ('Manvir', 'Nikhil', 'Samrat', 'Ayush')\n",
      "The roll_no list :  (4, 1, 3, 2)\n",
      "The marks list :  (40, 50, 60, 70)"
     ]
    }
   ],
   "source": [
    "name = [\"Manvir\", \"Nikhil\", \"Samrat\", \"Ayush\"]\n",
    "roll_no = [4, 1, 3, 2]\n",
    "marks = [40, 50, 60, 70]\n",
    " \n",
    "# using zip() to map values\n",
    "mapped = zip(name, roll_no, marks)\n",
    "mapped = list(mapped)\n",
    "\n",
    "# unzipping values\n",
    "names, roll_nos, marks = zip(*mapped)\n",
    " \n",
    "print(\"The unzipped result -->\", end=\"\\n\")\n",
    "print('--'*15)\n",
    " \n",
    "# printing initial lists\n",
    "print(\"The name list : \",names,end=\"\\n\")\n",
    " \n",
    "print(\"The roll_no list : \",roll_nos,end=\"\\n\")\n",
    " \n",
    "print(\"The marks list : \",marks,end=\"\")"
   ]
  },
  {
   "cell_type": "code",
   "execution_count": 25,
   "id": "e147d5f0",
   "metadata": {},
   "outputs": [
    {
     "name": "stdout",
     "output_type": "stream",
     "text": [
      "1 India 456\n",
      "2 Pakistan 432\n",
      "3 England 123\n",
      "4 West Indies 234\n",
      "5 South Africa 543\n"
     ]
    }
   ],
   "source": [
    "# How to apply enumerate() and zip() at same time\n",
    "for index,(team_names,team_scores) in enumerate(zip(team_names,team_scores),1):\n",
    "    print(index,team_names,team_scores)"
   ]
  },
  {
   "cell_type": "markdown",
   "id": "54e6de2e",
   "metadata": {},
   "source": [
    "### Python break and continue\n",
    "#### In programming, the break and continue statements are used to alter the flow of loops:\n",
    "    - Break exits the loop entirely and the break statement terminates the loop immediately when it's encountered.\n",
    "    - Continue skips the current iteration and proceeds to the next one."
   ]
  },
  {
   "cell_type": "markdown",
   "id": "d213b8a0",
   "metadata": {},
   "source": [
    "#### The break statement is usually used inside decision-making statements such as if...else."
   ]
  },
  {
   "cell_type": "code",
   "execution_count": 30,
   "id": "b8e3fe96",
   "metadata": {},
   "outputs": [
    {
     "name": "stdout",
     "output_type": "stream",
     "text": [
      "4420.0\n",
      "7020.0\n"
     ]
    }
   ],
   "source": [
    "for val in salary:\n",
    "    if val >= 10000:\n",
    "        break       # Here break statement is used to halt the iteration after filtering the salaries,\n",
    "                    # then,it prints the filtered salaries one by one\n",
    "    print(val)"
   ]
  },
  {
   "cell_type": "code",
   "execution_count": 46,
   "id": "2bf2b7e9",
   "metadata": {},
   "outputs": [
    {
     "name": "stdout",
     "output_type": "stream",
     "text": [
      "S\n",
      "y\n",
      " \n"
     ]
    }
   ],
   "source": [
    "string = \"Sayantan Naha\"\n",
    "for el in string:\n",
    "    if el == 'a':\n",
    "        continue\n",
    "    elif el == \"t\":\n",
    "        continue\n",
    "    else:\n",
    "        if el == \"n\":\n",
    "            continue\n",
    "        elif el == \"N\":\n",
    "            break\n",
    "    print(el)"
   ]
  },
  {
   "cell_type": "code",
   "execution_count": null,
   "id": "ca0f2e49",
   "metadata": {},
   "outputs": [],
   "source": []
  }
 ],
 "metadata": {
  "kernelspec": {
   "display_name": "Python 3 (ipykernel)",
   "language": "python",
   "name": "python3"
  },
  "language_info": {
   "codemirror_mode": {
    "name": "ipython",
    "version": 3
   },
   "file_extension": ".py",
   "mimetype": "text/x-python",
   "name": "python",
   "nbconvert_exporter": "python",
   "pygments_lexer": "ipython3",
   "version": "3.11.4"
  }
 },
 "nbformat": 4,
 "nbformat_minor": 5
}
