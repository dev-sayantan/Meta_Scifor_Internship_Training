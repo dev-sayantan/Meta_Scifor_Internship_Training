{
 "cells": [
  {
   "cell_type": "code",
   "execution_count": 1,
   "id": "589a8404",
   "metadata": {},
   "outputs": [],
   "source": [
    "import numpy as np"
   ]
  },
  {
   "cell_type": "code",
   "execution_count": 2,
   "id": "d75cc770",
   "metadata": {},
   "outputs": [
    {
     "name": "stdout",
     "output_type": "stream",
     "text": [
      "[65 89 96 79 24 34 16 37 96 68 43 75 91 49 51]\n"
     ]
    }
   ],
   "source": [
    "student_marks = np.random.randint(1,101,15)\n",
    "print(student_marks)"
   ]
  },
  {
   "cell_type": "code",
   "execution_count": 3,
   "id": "89b801e7",
   "metadata": {},
   "outputs": [
    {
     "data": {
      "text/plain": [
       "array([65, 89, 96, 79, 24, 34, 16, 37, 96, 68, 43, 75, 91, 49, 51])"
      ]
     },
     "execution_count": 3,
     "metadata": {},
     "output_type": "execute_result"
    }
   ],
   "source": [
    "student_marks"
   ]
  },
  {
   "cell_type": "code",
   "execution_count": 4,
   "id": "6da980b3",
   "metadata": {},
   "outputs": [
    {
     "data": {
      "text/plain": [
       "array([65, 89, 96, 79, 34, 34, 34, 37, 96, 68, 43, 75, 91, 49, 51])"
      ]
     },
     "execution_count": 4,
     "metadata": {},
     "output_type": "execute_result"
    }
   ],
   "source": [
    "np.clip(student_marks,a_min=34,a_max=100)"
   ]
  },
  {
   "cell_type": "code",
   "execution_count": 5,
   "id": "ee8d8624",
   "metadata": {},
   "outputs": [
    {
     "name": "stdout",
     "output_type": "stream",
     "text": [
      "(array([5], dtype=int64),)\n",
      "(array([ 0,  1,  2,  3,  4,  6,  7,  8,  9, 10, 11, 12, 13, 14],\n",
      "      dtype=int64),)\n",
      "(array([4, 6], dtype=int64),)\n"
     ]
    }
   ],
   "source": [
    "print(np.where(student_marks == 34))\n",
    "print(np.where(student_marks != 34))\n",
    "print(np.where(student_marks < 34))\n"
   ]
  },
  {
   "cell_type": "code",
   "execution_count": 6,
   "id": "d0f05dbf",
   "metadata": {},
   "outputs": [
    {
     "data": {
      "text/plain": [
       "array([[89],\n",
       "       [24]])"
      ]
     },
     "execution_count": 6,
     "metadata": {},
     "output_type": "execute_result"
    }
   ],
   "source": [
    "student_marks[[1,4]].reshape(2,1)"
   ]
  },
  {
   "cell_type": "code",
   "execution_count": 7,
   "id": "0b593d23",
   "metadata": {},
   "outputs": [],
   "source": [
    "from numpy.random import randint as ri"
   ]
  },
  {
   "cell_type": "code",
   "execution_count": 8,
   "id": "c9fbe17f",
   "metadata": {},
   "outputs": [
    {
     "name": "stdout",
     "output_type": "stream",
     "text": [
      "[40 41 58 42 70 37 23 52 66 94  4  3 46 26 70 61 94 44 73  8 91 94 92 91\n",
      " 30 89 62 84 34 40 10 16 41 42 74 88 39 11 49 64 15 71 84 89 38 23 27 55\n",
      " 46 74]\n"
     ]
    }
   ],
   "source": [
    "arr = ri(1,100,50)\n",
    "print(arr)"
   ]
  },
  {
   "cell_type": "code",
   "execution_count": 9,
   "id": "9f668218",
   "metadata": {},
   "outputs": [
    {
     "name": "stdout",
     "output_type": "stream",
     "text": [
      "[[[40]\n",
      "  [41]\n",
      "  [58]\n",
      "  [42]\n",
      "  [70]\n",
      "  [37]\n",
      "  [23]\n",
      "  [52]\n",
      "  [66]\n",
      "  [94]]\n",
      "\n",
      " [[ 4]\n",
      "  [ 3]\n",
      "  [46]\n",
      "  [26]\n",
      "  [70]\n",
      "  [61]\n",
      "  [94]\n",
      "  [44]\n",
      "  [73]\n",
      "  [ 8]]\n",
      "\n",
      " [[91]\n",
      "  [94]\n",
      "  [92]\n",
      "  [91]\n",
      "  [30]\n",
      "  [89]\n",
      "  [62]\n",
      "  [84]\n",
      "  [34]\n",
      "  [40]]\n",
      "\n",
      " [[10]\n",
      "  [16]\n",
      "  [41]\n",
      "  [42]\n",
      "  [74]\n",
      "  [88]\n",
      "  [39]\n",
      "  [11]\n",
      "  [49]\n",
      "  [64]]\n",
      "\n",
      " [[15]\n",
      "  [71]\n",
      "  [84]\n",
      "  [89]\n",
      "  [38]\n",
      "  [23]\n",
      "  [27]\n",
      "  [55]\n",
      "  [46]\n",
      "  [74]]]\n",
      "MAX -->  94\n",
      "MAX -->  3\n"
     ]
    }
   ],
   "source": [
    "arr1 = arr.reshape(5,10,1)\n",
    "print(arr1)\n",
    "print(\"MAX --> \",arr1.max())\n",
    "print(\"MAX --> \",arr1.min())"
   ]
  },
  {
   "cell_type": "code",
   "execution_count": 10,
   "id": "f792c212",
   "metadata": {},
   "outputs": [
    {
     "name": "stdout",
     "output_type": "stream",
     "text": [
      "\n",
      " 4 X 5 matrix of random integer \n",
      " -------------------------------------------------- \n",
      " [[27 63 56  7  8]\n",
      " [77 72 62 70  4]\n",
      " [54 26 21 60 15]\n",
      " [47 73 24  5 90]]\n",
      "\n",
      " Here is the sorted matrix along each row \n",
      " -------------------------------------------------- \n",
      " [[ 7  8 27 56 63]\n",
      " [ 4 62 70 72 77]\n",
      " [15 21 26 54 60]\n",
      " [ 5 24 47 73 90]]\n",
      "\n",
      " Here is the sorted matrix along each column \n",
      " -------------------------------------------------- \n",
      " [[27 26 21  5  4]\n",
      " [47 63 24  7  8]\n",
      " [54 72 56 60 15]\n",
      " [77 73 62 70 90]]\n"
     ]
    }
   ],
   "source": [
    "m = ri(1,100,20).reshape(4,5) #matrix of random integer\n",
    "print(\"\\n 4 X 5 matrix of random integer \\n\",'-'*50,'\\n',m)\n",
    "print(\"\\n Here is the sorted matrix along each row \\n\",'-'*50,'\\n',np.sort(m)) # default axis=1\n",
    "print(\"\\n Here is the sorted matrix along each column \\n\",'-'*50,'\\n',np.sort(m, axis=0))"
   ]
  },
  {
   "cell_type": "markdown",
   "id": "94a061ba",
   "metadata": {},
   "source": [
    "### Index and slicing"
   ]
  },
  {
   "cell_type": "code",
   "execution_count": 11,
   "id": "c4608319",
   "metadata": {},
   "outputs": [
    {
     "name": "stdout",
     "output_type": "stream",
     "text": [
      "Array [13 14 15 16 17 18 19 20 21 22 23 24 25 26 27 28 29]\n"
     ]
    }
   ],
   "source": [
    "arr = np.arange(13,30,1)\n",
    "print(\"Array\",arr)"
   ]
  },
  {
   "cell_type": "code",
   "execution_count": 12,
   "id": "017d5bb9",
   "metadata": {},
   "outputs": [
    {
     "name": "stdout",
     "output_type": "stream",
     "text": [
      "Element of 7th index is = 20\n",
      "Element of 3rd index is = 16\n",
      "Elements between 3rd and 7th index are = [16 17 18 19]\n",
      "Elements from 3rd to end are = [16 17 18 19 20 21 22 23 24 25 26 27 28 29]\n"
     ]
    }
   ],
   "source": [
    "print(\"Element of 7th index is =\",arr[7])\n",
    "print(\"Element of 3rd index is =\",arr[3])\n",
    "print(\"Elements between 3rd and 7th index are =\",arr[3:7])\n",
    "print(\"Elements from 3rd to end are =\",arr[3:])"
   ]
  },
  {
   "cell_type": "code",
   "execution_count": 13,
   "id": "665a51e4",
   "metadata": {},
   "outputs": [
    {
     "name": "stdout",
     "output_type": "stream",
     "text": [
      "[[ 1  3  5]\n",
      " [ 8  9  4]\n",
      " [10  2 90]]\n"
     ]
    }
   ],
   "source": [
    "mat = np.array([[1,3,5],[8,9,4],[10,2,90]])\n",
    "print(mat)"
   ]
  },
  {
   "cell_type": "code",
   "execution_count": 14,
   "id": "bcbb12a4",
   "metadata": {},
   "outputs": [
    {
     "name": "stdout",
     "output_type": "stream",
     "text": [
      "Extracting a full Row -->  [10  2 90]\n"
     ]
    }
   ],
   "source": [
    "print(\"Extracting a full Row --> \",mat[2])"
   ]
  },
  {
   "cell_type": "code",
   "execution_count": 15,
   "id": "e0247663",
   "metadata": {},
   "outputs": [
    {
     "name": "stdout",
     "output_type": "stream",
     "text": [
      "All Columns after index 1 -->\n",
      " [[ 3  5]\n",
      " [ 9  4]\n",
      " [ 2 90]]\n"
     ]
    }
   ],
   "source": [
    "print(\"All Columns after index 1 -->\\n\",mat[:,1:])"
   ]
  },
  {
   "cell_type": "code",
   "execution_count": 16,
   "id": "176f3246",
   "metadata": {},
   "outputs": [
    {
     "name": "stdout",
     "output_type": "stream",
     "text": [
      "\n",
      "Subsetting Sub-Matrix\n",
      "------------------------\n",
      "Submatrix Subsetting --> Matrix between row index 1 and 2 & column index 1 & 2, the middle most element of this 3X3 2D matrix\n",
      " [[9]]\n"
     ]
    }
   ],
   "source": [
    "print(\"\\nSubsetting Sub-Matrix\\n\"+'--'*12)\n",
    "\n",
    "print(\"Submatrix Subsetting --> Matrix between row index 1 and 2 & column index 1 & 2, the middle most element of this 3X3 2D matrix\\n\",mat[1:2,1:2])"
   ]
  },
  {
   "cell_type": "code",
   "execution_count": 17,
   "id": "df83f354",
   "metadata": {},
   "outputs": [
    {
     "name": "stdout",
     "output_type": "stream",
     "text": [
      "[[1 3]]\n"
     ]
    }
   ],
   "source": [
    "print(mat[0:1,0:2])"
   ]
  },
  {
   "cell_type": "code",
   "execution_count": 18,
   "id": "a632e791",
   "metadata": {},
   "outputs": [
    {
     "name": "stdout",
     "output_type": "stream",
     "text": [
      "Original Matrix --> \n",
      " [[  1   2   3]\n",
      " [  2   6  30]\n",
      " [ 90 543  90]]\n",
      "Updated Matrix --> \n",
      " [[  1   2   3]\n",
      " [  2   6  60]\n",
      " [ 90 543  90]]\n"
     ]
    }
   ],
   "source": [
    "# Update Matrix\n",
    "mat_2 = np.array([[1,2,3],[2,6,30],[90,543,90]])\n",
    "print(\"Original Matrix --> \\n\",mat_2)\n",
    "mat_2[1,2] = 60\n",
    "print(\"Updated Matrix --> \\n\",mat_2)"
   ]
  },
  {
   "cell_type": "code",
   "execution_count": 19,
   "id": "082616af",
   "metadata": {},
   "outputs": [
    {
     "name": "stdout",
     "output_type": "stream",
     "text": [
      "Matrix of random 2 digit numbers \n",
      "------------\n",
      " [[67 28 31 87 56]\n",
      " [28 65 97 11 86]\n",
      " [82 69 96 68 26]\n",
      " [52 41 92 40 43]\n",
      " [28 22 15 90 17]]\n"
     ]
    }
   ],
   "source": [
    "mat_3 = np.array(ri(10,100,25)).reshape(5,5)\n",
    "print('Matrix of random 2 digit numbers \\n------------\\n',mat_3)"
   ]
  },
  {
   "cell_type": "code",
   "execution_count": 20,
   "id": "7a5547da",
   "metadata": {},
   "outputs": [
    {
     "name": "stdout",
     "output_type": "stream",
     "text": [
      "Elements greater than 20\n",
      "  [67 28 31 87 56 28 65 97 86 82 69 96 68 26 52 41 92 40 43 28 22 90]\n"
     ]
    }
   ],
   "source": [
    "print(\"Elements greater than 20\\n \",mat_3[mat_3>20])"
   ]
  },
  {
   "cell_type": "code",
   "execution_count": 21,
   "id": "929fbf36",
   "metadata": {},
   "outputs": [
    {
     "name": "stdout",
     "output_type": "stream",
     "text": [
      "(array([], dtype=int64), array([], dtype=int64))\n"
     ]
    }
   ],
   "source": [
    "print(np.where(mat_3 == 66)) # It returns the row index first, then column index of particular element"
   ]
  },
  {
   "cell_type": "code",
   "execution_count": 22,
   "id": "716beb8d",
   "metadata": {},
   "outputs": [
    {
     "data": {
      "text/plain": [
       "array('Still Working', dtype='<U13')"
      ]
     },
     "execution_count": 22,
     "metadata": {},
     "output_type": "execute_result"
    }
   ],
   "source": [
    "age = 50\n",
    "np.where(age>60,'Retired','Still Working')"
   ]
  },
  {
   "cell_type": "markdown",
   "id": "c1dfcac9",
   "metadata": {},
   "source": [
    "### UNIVERSAL FUNCTIONS"
   ]
  },
  {
   "cell_type": "code",
   "execution_count": 23,
   "id": "327bf176",
   "metadata": {},
   "outputs": [
    {
     "name": "stdout",
     "output_type": "stream",
     "text": [
      "[[1.2 1.2 1.2 1.2 1.2]\n",
      " [1.2 1.2 1.2 1.2 1.2]\n",
      " [1.2 1.2 1.2 1.2 1.2]\n",
      " [1.2 1.2 1.2 1.2 1.2]\n",
      " [1.2 1.2 1.2 1.2 1.2]\n",
      " [1.2 1.2 1.2 1.2 1.2]\n",
      " [1.2 1.2 1.2 1.2 1.2]\n",
      " [1.2 1.2 1.2 1.2 1.2]\n",
      " [1.2 1.2 1.2 1.2 1.2]\n",
      " [1.2 1.2 1.2 1.2 1.2]]\n",
      "\n",
      " Linear combination : 3*A - 2*B \n",
      " [[8. 8. 8. 8. 8.]\n",
      " [8. 8. 8. 8. 8.]\n",
      " [8. 8. 8. 8. 8.]\n",
      " [8. 8. 8. 8. 8.]\n",
      " [8. 8. 8. 8. 8.]\n",
      " [8. 8. 8. 8. 8.]\n",
      " [8. 8. 8. 8. 8.]\n",
      " [8. 8. 8. 8. 8.]\n",
      " [8. 8. 8. 8. 8.]\n",
      " [8. 8. 8. 8. 8.]]\n"
     ]
    }
   ],
   "source": [
    "mat_4 = 6*np.ones(50).reshape(10,5)\n",
    "mat_5 = 5*np.ones(50).reshape(10,5)\n",
    "calc_matrix = print(mat_4/mat_5)\n",
    "calc_matrix\n",
    "\n",
    "print(\"\\n Linear combination : 3*A - 2*B \\n\",3*mat_4 - 2*mat_5)"
   ]
  },
  {
   "cell_type": "markdown",
   "id": "e20d8dd5",
   "metadata": {},
   "source": [
    "### Broadcasting"
   ]
  },
  {
   "cell_type": "markdown",
   "id": "7ab9077e",
   "metadata": {},
   "source": [
    "###### Broadcasting -- In NumPy, we can perform mathematical operations on arrays of different shapes. An array with a smaller shape is expanded to match the shape of a larger one. This is called broadcasting."
   ]
  },
  {
   "cell_type": "code",
   "execution_count": 24,
   "id": "e3bdc8b6",
   "metadata": {},
   "outputs": [
    {
     "name": "stdout",
     "output_type": "stream",
     "text": [
      "[[0. 0. 0.]\n",
      " [0. 0. 0.]\n",
      " [0. 0. 0.]]\n"
     ]
    }
   ],
   "source": [
    "mat_6 = np.zeros((3,3))\n",
    "print(mat_6)"
   ]
  },
  {
   "cell_type": "code",
   "execution_count": 25,
   "id": "801c7f74",
   "metadata": {},
   "outputs": [
    {
     "name": "stdout",
     "output_type": "stream",
     "text": [
      "[[1. 2. 3.]\n",
      " [1. 2. 3.]\n",
      " [1. 2. 3.]]\n"
     ]
    }
   ],
   "source": [
    "mat_7 = np.array([[1,2,3]])\n",
    "row_added = mat_6 + mat_7\n",
    "print(row_added)"
   ]
  },
  {
   "cell_type": "code",
   "execution_count": 26,
   "id": "5682968a",
   "metadata": {},
   "outputs": [
    {
     "name": "stdout",
     "output_type": "stream",
     "text": [
      "[[1]\n",
      " [2]\n",
      " [3]]\n"
     ]
    }
   ],
   "source": [
    "mat_8 = mat_7.T  # T for transpose, it alters the row and columns,vice-versa\n",
    "print(mat_8)"
   ]
  },
  {
   "cell_type": "code",
   "execution_count": 27,
   "id": "caf3f1ae",
   "metadata": {},
   "outputs": [
    {
     "name": "stdout",
     "output_type": "stream",
     "text": [
      "[[2 9 6 0]]\n"
     ]
    },
    {
     "data": {
      "text/plain": [
       "array([[2],\n",
       "       [9],\n",
       "       [6],\n",
       "       [0]])"
      ]
     },
     "execution_count": 27,
     "metadata": {},
     "output_type": "execute_result"
    }
   ],
   "source": [
    "# Creating table ndarray of shape 4 X 1 to broadcast across coloumn\n",
    "mat_9 = np.array([[2,9,6,0]])\n",
    "print(mat_9)\n",
    "mat_9.T"
   ]
  },
  {
   "cell_type": "code",
   "execution_count": 30,
   "id": "bec79ec2",
   "metadata": {},
   "outputs": [
    {
     "name": "stdout",
     "output_type": "stream",
     "text": [
      "[[ 3 10  7  1]\n",
      " [ 4 11  8  2]\n",
      " [ 5 12  9  3]]\n"
     ]
    }
   ],
   "source": [
    "# Doing broadcasting between 4 X 1 and 3 X 1 2D Arrays\n",
    "braodcasted = mat_9 + mat_8  # floor division operation, 3 X 4 array created\n",
    "print(braodcasted) "
   ]
  },
  {
   "cell_type": "code",
   "execution_count": 29,
   "id": "b656aa5e",
   "metadata": {},
   "outputs": [
    {
     "name": "stdout",
     "output_type": "stream",
     "text": [
      "[[1. 1. 1.]\n",
      " [2. 2. 2.]\n",
      " [3. 3. 3.]]\n"
     ]
    }
   ],
   "source": [
    "# another broadcast\n",
    "broadcasted_matrix = mat_6 + mat_8  # 3 X 3 and 3 X 1 matrices doing broadcasting\n",
    "print(broadcasted_matrix)"
   ]
  },
  {
   "cell_type": "markdown",
   "id": "2efe7037",
   "metadata": {},
   "source": [
    "### Array Math"
   ]
  },
  {
   "cell_type": "code",
   "execution_count": 31,
   "id": "0dbca33e",
   "metadata": {},
   "outputs": [
    {
     "name": "stdout",
     "output_type": "stream",
     "text": [
      "\n",
      " 1st Matrix of random single digit number\n",
      "---------------------------\n",
      " [[23 26 16 23 13]\n",
      " [14 25 16 13 14]\n",
      " [14 21 17 11 27]\n",
      " [13 17 25 13 13]]\n",
      "\n",
      " 2nd Matrix of random single digit number\n",
      "---------------------------\n",
      " [[32 37 37 35 39]\n",
      " [28 38 23 24 25]\n",
      " [21 35 30 30 37]\n",
      " [38 35 29 34 28]]\n",
      "\n",
      " Square root of 1st Matrix using np.sqrt()\n",
      " -------------------------------------------------- \n",
      " [[4.79583152 5.09901951 4.         4.79583152 3.60555128]\n",
      " [3.74165739 5.         4.         3.60555128 3.74165739]\n",
      " [3.74165739 4.58257569 4.12310563 3.31662479 5.19615242]\n",
      " [3.60555128 4.12310563 5.         3.60555128 3.60555128]]\n",
      "\n",
      " Square of 2nd Matrix using np.square()\n",
      " -------------------------------------------------- \n",
      " [[1024 1369 1369 1225 1521]\n",
      " [ 784 1444  529  576  625]\n",
      " [ 441 1225  900  900 1369]\n",
      " [1444 1225  841 1156  784]]\n"
     ]
    }
   ],
   "source": [
    "# Array Math\n",
    "m1 = np.array(ri(11,30,20)).reshape(4,5)\n",
    "m2 = np.array(ri(21,40,20)).reshape(4,5)\n",
    "\n",
    "print(\"\\n 1st Matrix of random single digit number\\n---------------------------\\n\",m1)\n",
    "print(\"\\n 2nd Matrix of random single digit number\\n---------------------------\\n\",m2)\n",
    "\n",
    "print(\"\\n Square root of 1st Matrix using np.sqrt()\\n\",'-'*50,\"\\n\",np.sqrt(m1))\n",
    "print(\"\\n Square of 2nd Matrix using np.square()\\n\",'-'*50,\"\\n\",np.square(m2))"
   ]
  },
  {
   "cell_type": "code",
   "execution_count": null,
   "id": "81eaa584",
   "metadata": {},
   "outputs": [],
   "source": []
  }
 ],
 "metadata": {
  "kernelspec": {
   "display_name": "Python 3 (ipykernel)",
   "language": "python",
   "name": "python3"
  },
  "language_info": {
   "codemirror_mode": {
    "name": "ipython",
    "version": 3
   },
   "file_extension": ".py",
   "mimetype": "text/x-python",
   "name": "python",
   "nbconvert_exporter": "python",
   "pygments_lexer": "ipython3",
   "version": "3.11.4"
  }
 },
 "nbformat": 4,
 "nbformat_minor": 5
}
