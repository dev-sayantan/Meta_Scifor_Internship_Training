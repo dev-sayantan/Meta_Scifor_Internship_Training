{
 "cells": [
  {
   "cell_type": "markdown",
   "id": "9ff34410",
   "metadata": {},
   "source": [
    "## **** Functions ****"
   ]
  },
  {
   "cell_type": "markdown",
   "id": "f41b5b9a",
   "metadata": {},
   "source": [
    "### A Function generally consists of a block of coding statements, used (function call) repeatedly as many time as it is required. Function creation makes the codebase more easy to understand as each specific task is performed by each function seperately. When the codebase gets larger, we can reduce the complexity by using functions, also we can keep track of each specific tasks quite easily."
   ]
  },
  {
   "cell_type": "code",
   "execution_count": 1,
   "id": "326c4f3e",
   "metadata": {},
   "outputs": [
    {
     "name": "stdout",
     "output_type": "stream",
     "text": [
      "Hello Sayantan !\n"
     ]
    }
   ],
   "source": [
    "def sayHello(name): # def is a keyword which indicates it is a function definition &\n",
    "                    # name is an argument passed to the function\n",
    "    print('Hello',name,'!')\n",
    "sayHello('Sayantan') # Here we are making a function call by providing an argument value(parameter)"
   ]
  },
  {
   "cell_type": "code",
   "execution_count": 2,
   "id": "987c52b1",
   "metadata": {},
   "outputs": [
    {
     "name": "stdout",
     "output_type": "stream",
     "text": [
      "Enter your existing salary --> 5000\n"
     ]
    },
    {
     "data": {
      "text/plain": [
       "10500.0"
      ]
     },
     "execution_count": 2,
     "metadata": {},
     "output_type": "execute_result"
    }
   ],
   "source": [
    "def salary_hike(salary):\n",
    "    if salary > 6000:\n",
    "        salary += salary * .30\n",
    "    elif salary < 6000:\n",
    "        salary += salary * 1.1\n",
    "    return round(salary,2)   # return keyword is used within a function block. Once executed,\n",
    "\n",
    "# driver code\n",
    "salary = float(input(\"Enter your existing salary --> \"))\n",
    "salary_hike(salary)"
   ]
  },
  {
   "cell_type": "code",
   "execution_count": 3,
   "id": "c7bd8c23",
   "metadata": {},
   "outputs": [
    {
     "name": "stdout",
     "output_type": "stream",
     "text": [
      "You have secured 331 Marks in aggregate out of 400.\n"
     ]
    }
   ],
   "source": [
    "full_marks = 400\n",
    "def subj_marks_total(Maths,Physics,Chemistry,Biology):\n",
    "    # Many arguments passed in function definition\n",
    "    marks = int(Maths+Physics+Chemistry+Biology)\n",
    "    return marks\n",
    "# driver code\n",
    "print(f\"You have secured {subj_marks_total(89,90,78,74)} Marks in aggregate out of {full_marks}.\")"
   ]
  },
  {
   "cell_type": "code",
   "execution_count": 4,
   "id": "7d56c85b",
   "metadata": {},
   "outputs": [
    {
     "name": "stdout",
     "output_type": "stream",
     "text": [
      "Price is --> Rs. 11999\n"
     ]
    }
   ],
   "source": [
    "# A real time example of function with if..else\n",
    "def ph_price(ph_maker,ph_model,ph_age,ph_storage):\n",
    "    if ph_maker == 'Samsung' and ph_model == 'A51':\n",
    "        if ph_age >= 1 and ph_age < 2:\n",
    "            if ph_storage == 64:\n",
    "                print(\"Price is --> Rs. 15000 to Rs. 20000\")\n",
    "            elif ph_storage == 128:\n",
    "                print(\"Price is --> Rs. 23000 to Rs. 25000\")\n",
    "        elif ph_age >= 2 and ph_age <= 4:\n",
    "            if ph_storage == 64:\n",
    "                print(\"Price is --> Rs. 12000 to Rs. 14000\")\n",
    "            elif ph_storage == 128:\n",
    "                print(\"Price is --> Rs. 15000 to Rs. 17000\")\n",
    "    elif ph_maker == 'Xiaomi' and ph_model == 'Redmi-13c':\n",
    "        if ph_age >= 1 and ph_age < 2:\n",
    "            if ph_storage == 128:\n",
    "                print(\"Price is --> Rs. 11999\")\n",
    "            elif ph_storage == 256:\n",
    "                print(\"Price is --> Rs. 13999\")\n",
    "        elif ph_age >= 2 and ph_age <= 4:\n",
    "            if ph_storage == 128:\n",
    "                print(\"Price is --> Rs. 10500 to Rs. 12000\")\n",
    "            elif ph_storage == 256:\n",
    "                print(\"Price is --> Rs. 11000 to Rs. 13000\")\n",
    "    else:\n",
    "        print(\"Stock finished and will be back in some days. Please check later!\")\n",
    "\n",
    "        \n",
    "ph_price('Xiaomi','Redmi-13c',1.3,128)"
   ]
  },
  {
   "cell_type": "markdown",
   "id": "57bec242",
   "metadata": {},
   "source": [
    "### Lambda Function is also called the anonymous function because it doesn't require any 'def' keyword during creation. Syntax is *lambda argument(s) : expression* \n",
    "      \n",
    "   * Used for quick calculations. \n",
    "   * It is for one time use.    "
   ]
  },
  {
   "cell_type": "code",
   "execution_count": 5,
   "id": "eb332b42",
   "metadata": {},
   "outputs": [
    {
     "name": "stdout",
     "output_type": "stream",
     "text": [
      "Hello! Sayantan\n"
     ]
    }
   ],
   "source": [
    "sayHello = lambda name: print(\"Hello!\",name)\n",
    "sayHello('Sayantan')"
   ]
  },
  {
   "cell_type": "code",
   "execution_count": 6,
   "id": "c1d5f5fc",
   "metadata": {},
   "outputs": [
    {
     "data": {
      "text/plain": [
       "2.0"
      ]
     },
     "execution_count": 6,
     "metadata": {},
     "output_type": "execute_result"
    }
   ],
   "source": [
    "import math\n",
    "square_Root = lambda y: math.sqrt(y)\n",
    "square_Root(4)"
   ]
  },
  {
   "cell_type": "code",
   "execution_count": 7,
   "id": "6f6a54a6",
   "metadata": {},
   "outputs": [
    {
     "name": "stdout",
     "output_type": "stream",
     "text": [
      "607.5\n"
     ]
    }
   ],
   "source": [
    "multi_arg = lambda x,y,z,n: print((x*y*(z**n)/2*n))\n",
    "multi_arg(2,0.5,3,5)"
   ]
  },
  {
   "cell_type": "markdown",
   "id": "20881eff",
   "metadata": {},
   "source": [
    "### Using Args & Kwargs in Python Function\n",
    "#### Introduction to *args and **kwargs in Python :-\n",
    "#### In Python, we can pass a variable number of arguments to a function using special symbols. There are two special symbols:\n",
    "\n",
    "    - *args (Non Keyword Arguments)\n",
    "    - **kwargs (Keyword Arguments)\n",
    "    \n",
    "#### We use *args and **kwargs as an argument when we are unsure about the number of arguments to pass in the functions."
   ]
  },
  {
   "cell_type": "code",
   "execution_count": 8,
   "id": "acb9c881",
   "metadata": {},
   "outputs": [
    {
     "name": "stdout",
     "output_type": "stream",
     "text": [
      "Argument No - 0 is Olympic\n",
      "Argument No - 1 is Euro\n",
      "Argument No - 2 is WorldCup\n",
      "Argument No - 3 is Copa\n",
      "Argument No - 4 is India\n",
      "Argument No - 5 is Felps\n",
      "Argument No - 6 is 28\n"
     ]
    }
   ],
   "source": [
    "def myfunc(*args):\n",
    "    for i,ele in enumerate(args):\n",
    "        print('Argument No -',i,\"is\",ele)\n",
    "myfunc('Olympic','Euro','WorldCup','Copa','India','Felps',28)"
   ]
  },
  {
   "cell_type": "code",
   "execution_count": 9,
   "id": "a7c9cd2f",
   "metadata": {},
   "outputs": [
    {
     "name": "stdout",
     "output_type": "stream",
     "text": [
      "Tournaments ['Olympic', 'Euro', 'WorldCup', 'Copa']\n",
      "Country ['India', 'Netherlands', 'Brazil', 'Argentina']\n"
     ]
    }
   ],
   "source": [
    "def myfunc(**kwargs):\n",
    "    for key,value in kwargs.items():\n",
    "        print(key,value) \n",
    "    \n",
    "myfunc(Tournaments=['Olympic','Euro','WorldCup','Copa'],Country=['India','Netherlands','Brazil','Argentina'])"
   ]
  },
  {
   "cell_type": "markdown",
   "id": "9ca49f7a",
   "metadata": {},
   "source": [
    "### Python map() Function :-\n",
    "#### The map() function executes a given function to each element of an iterable (such as lists, tuples, etc.).\n",
    "\n",
    "#### The map() function takes two arguments:\n",
    "\n",
    "    - Function - a function that is applied to each element of an iterable.\n",
    "    - Iterables - iterables such as lists, tuples, etc.\n",
    "**Note: We can pass more than one iterable to the map() function."
   ]
  },
  {
   "cell_type": "code",
   "execution_count": 10,
   "id": "f8c428d1",
   "metadata": {},
   "outputs": [
    {
     "name": "stdout",
     "output_type": "stream",
     "text": [
      "Number of candidates passed after giving gracemarks --> [47, 35, 35, 36, 67, 56, 45, 78, 35, 35, 35]\n",
      "5\n"
     ]
    }
   ],
   "source": [
    "# One of the two required positional arguments for map() --> 1. A function\n",
    "def grace_marking(marks):\n",
    "    if marks == 33:\n",
    "        return marks + 2\n",
    "    elif marks == 34:\n",
    "        return marks + 1\n",
    "    else:\n",
    "        return marks\n",
    "    \n",
    "# Second required positional argument for map() --> 2. An interable, here it is a list\n",
    "score=[47,33,34,36,67,56,45,78,34,33,33]\n",
    "\n",
    "gracemark_list = list(map(grace_marking,score))\n",
    "\n",
    "def isPassed(gracemark_list):\n",
    "    for marks in gracemark_list:\n",
    "        if marks > 34:\n",
    "            return gracemark_list\n",
    "        \n",
    "print(\"Number of candidates passed after giving gracemarks -->\",isPassed(gracemark_list))\n",
    "passed_count = gracemark_list.count(35)\n",
    "print(passed_count)"
   ]
  },
  {
   "cell_type": "markdown",
   "id": "4160bbf3",
   "metadata": {},
   "source": [
    "### Filter() function :-\n",
    "#### The filter() function selects elements from an iterable based on the result of a function. It returns an iterator.\n",
    "#### filter() Parameters >> The function takes two parameters:\n",
    "    - Function - a function that runs for each item of an iterable\n",
    "    - Iterable - a sequence that needs to be filtered like sets, lists, tuples, etc."
   ]
  },
  {
   "cell_type": "code",
   "execution_count": 11,
   "id": "442730c5",
   "metadata": {},
   "outputs": [
    {
     "name": "stdout",
     "output_type": "stream",
     "text": [
      "Number of candidates was not able to pass before giving gracemarks --> 5\n"
     ]
    }
   ],
   "source": [
    "def filter_marks(marks):\n",
    "    if marks < 35:\n",
    "        return(marks)\n",
    "\n",
    "score=[47,33,34,36,67,56,45,78,34,33,33]\n",
    "failed = list(filter(filter_marks,score))\n",
    "failed_counts = len(failed)\n",
    "print(\"Number of candidates was not able to pass before giving gracemarks -->\",failed_counts)"
   ]
  },
  {
   "cell_type": "markdown",
   "id": "fd63874c",
   "metadata": {},
   "source": [
    "#### Map & Filter with Lambda :-"
   ]
  },
  {
   "cell_type": "code",
   "execution_count": 16,
   "id": "f3f3e74a",
   "metadata": {},
   "outputs": [
    {
     "data": {
      "text/plain": [
       "[False, True, True, False, False, False, False, False, True, True, True]"
      ]
     },
     "execution_count": 16,
     "metadata": {},
     "output_type": "execute_result"
    }
   ],
   "source": [
    "list(map(lambda marks:marks <= 34,score)) # mapped through each element of iterable 'score', returns boolean values\n",
    "                                          # based on the condition given within lambda function."
   ]
  },
  {
   "cell_type": "code",
   "execution_count": 17,
   "id": "c40e9177",
   "metadata": {},
   "outputs": [
    {
     "data": {
      "text/plain": [
       "[33, 34, 34, 33, 33]"
      ]
     },
     "execution_count": 17,
     "metadata": {},
     "output_type": "execute_result"
    }
   ],
   "source": [
    "list(filter(lambda marks:marks <= 34,score)) # iterable 'score' is filtered \n",
    "                                             # based on the condition given within lambda function."
   ]
  },
  {
   "cell_type": "markdown",
   "id": "d429c93a",
   "metadata": {},
   "source": [
    "### Global & Local Variables\n",
    "#### Global variables can be accessed both inside and outside of a function body.\n",
    "#### Local variables can only be accessed within the function body (We can modify it using a 'global' keyword)"
   ]
  },
  {
   "cell_type": "code",
   "execution_count": 29,
   "id": "467b23e4",
   "metadata": {},
   "outputs": [
    {
     "data": {
      "text/plain": [
       "75.5"
      ]
     },
     "execution_count": 29,
     "metadata": {},
     "output_type": "execute_result"
    }
   ],
   "source": [
    "def total_marks(math,phy,chem,bio):\n",
    "    for marks in range(400):\n",
    "        full_marks = 400               # Here full_marks is a local variable\n",
    "        total_marks = math+phy+chem+bio\n",
    "        percentage = (total_marks/full_marks)*100\n",
    "    return percentage\n",
    "total_marks(67,78,90,67)"
   ]
  },
  {
   "cell_type": "code",
   "execution_count": 30,
   "id": "2e804cc5",
   "metadata": {},
   "outputs": [
    {
     "data": {
      "text/plain": [
       "75.5"
      ]
     },
     "execution_count": 30,
     "metadata": {},
     "output_type": "execute_result"
    }
   ],
   "source": [
    "full_marks = 400   # Here full_marks is a global variable\n",
    "def total_marks(math,phy,chem,bio):\n",
    "    for marks in range(400):\n",
    "        total_marks = math+phy+chem+bio\n",
    "        percentage = (total_marks/full_marks)*100\n",
    "    return percentage\n",
    "total_marks(67,78,90,67)"
   ]
  },
  {
   "cell_type": "code",
   "execution_count": 33,
   "id": "033e0dbb",
   "metadata": {},
   "outputs": [
    {
     "name": "stdout",
     "output_type": "stream",
     "text": [
      "400\n"
     ]
    }
   ],
   "source": [
    "def total_marks(math,phy,chem,bio):\n",
    "    for marks in range(400):\n",
    "        global full_marks\n",
    "        full_marks = 400\n",
    "        total_marks = math+phy+chem+bio\n",
    "        percentage = (total_marks/full_marks)*100\n",
    "    return percentage\n",
    "total_marks(67,78,90,67)\n",
    "\n",
    "print(full_marks)    # Here full_marks is modified to be used everywhere, as global variable, using a 'global' keyword.\n",
    "                     # As a result, we can access 'full_marks' outside the function body."
   ]
  },
  {
   "cell_type": "code",
   "execution_count": null,
   "id": "ee6ba423",
   "metadata": {},
   "outputs": [],
   "source": []
  }
 ],
 "metadata": {
  "kernelspec": {
   "display_name": "Python 3 (ipykernel)",
   "language": "python",
   "name": "python3"
  },
  "language_info": {
   "codemirror_mode": {
    "name": "ipython",
    "version": 3
   },
   "file_extension": ".py",
   "mimetype": "text/x-python",
   "name": "python",
   "nbconvert_exporter": "python",
   "pygments_lexer": "ipython3",
   "version": "3.11.4"
  }
 },
 "nbformat": 4,
 "nbformat_minor": 5
}
