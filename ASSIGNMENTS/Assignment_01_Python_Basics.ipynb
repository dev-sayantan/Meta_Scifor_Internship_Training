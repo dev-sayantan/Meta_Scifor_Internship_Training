{
 "cells": [
  {
   "cell_type": "markdown",
   "id": "158d4225",
   "metadata": {},
   "source": [
    "# ||----------------------- Assignment 01 (Python Basics) -----------------------||\n",
    "###                                              **[ Sayantan Naha - (MST02-0053) ]**"
   ]
  },
  {
   "cell_type": "markdown",
   "id": "25539475",
   "metadata": {},
   "source": [
    "### 1. Write a Python program to print 'Hello, World!'."
   ]
  },
  {
   "cell_type": "code",
   "execution_count": 1,
   "id": "5d2a07f1",
   "metadata": {},
   "outputs": [
    {
     "name": "stdout",
     "output_type": "stream",
     "text": [
      "Hello, World!\n",
      "'Hello, World!'.\n"
     ]
    }
   ],
   "source": [
    "print('Hello, World!')\n",
    "print(\"'Hello, World!'\" + '.')"
   ]
  },
  {
   "cell_type": "markdown",
   "id": "98041773",
   "metadata": {},
   "source": [
    "### 2. Write a Python program to add two numbers."
   ]
  },
  {
   "cell_type": "code",
   "execution_count": 2,
   "id": "ace16aa2",
   "metadata": {},
   "outputs": [
    {
     "name": "stdout",
     "output_type": "stream",
     "text": [
      "Enter the first number -> 75\n",
      "Enter the second number -> 63\n",
      "Addition Value of two numbers -> 138\n"
     ]
    }
   ],
   "source": [
    "num_one = int(input(\"Enter the first number -> \"))\n",
    "num_two = int(input(\"Enter the second number -> \"))\n",
    "\n",
    "def add_num(a,b):\n",
    "    return a + b\n",
    "\n",
    "print(\"Addition Value of two numbers ->\",add_num(num_one,num_two))"
   ]
  },
  {
   "cell_type": "markdown",
   "id": "3002f57e",
   "metadata": {},
   "source": [
    "### 3. Write a Python program to find the square root of a number."
   ]
  },
  {
   "cell_type": "code",
   "execution_count": 3,
   "id": "8b23b53c",
   "metadata": {
    "scrolled": true
   },
   "outputs": [
    {
     "name": "stdout",
     "output_type": "stream",
     "text": [
      "Enter a number -> 145\n",
      "Square Root of 145 will be 12.04\n"
     ]
    }
   ],
   "source": [
    "import math\n",
    "num = int(input(\"Enter a number -> \"))\n",
    "def square_root(n):\n",
    "    return math.sqrt(n)\n",
    "print(f\"Square Root of {num} will be\",round(square_root(num),2))"
   ]
  },
  {
   "cell_type": "markdown",
   "id": "75222ea3",
   "metadata": {},
   "source": [
    "### 4. Write a Python program to calculate the area of a triangle."
   ]
  },
  {
   "cell_type": "code",
   "execution_count": 4,
   "id": "f06f620a",
   "metadata": {},
   "outputs": [
    {
     "name": "stdout",
     "output_type": "stream",
     "text": [
      "========== RIGHT-ANGLED TRIANGLE ==========\n",
      "Enter BASE length of triangle -> 8\n",
      "Enter HEIGHT of triangle -> 9\n",
      "Area of Triangle with BASE=8 and HEIGHT=9 is 36.0\n",
      "~~~~~~~~~~~~~~~~~~~~\n",
      "========== SCALENE TRIANGLE ==========\n",
      "Enter the length of first SIDE-> 7\n",
      "Enter the length of second SIDE-> 6\n",
      "Enter the length of third SIDE -> 7\n",
      "Area of Triangle with First SIDE=7,Second SIDE=6 and Third SIDE=7 is 18.97\n",
      "~~~~~~~~~~~~~~~~~~~~\n",
      "========== WHEN PROVIDED TWO SIDES & ANGLE BETWEEN ==========\n",
      "Enter the first SIDE length of triangle -> 8\n",
      "Enter the second SIDE length of triangle -> 15\n",
      "Enter the angle value between two sides -> 60\n",
      "Area of Triangle with First SIDE=8,Second SIDE=15 and having included angle=60 degree will be -18\n",
      "~~~~~~~~~~~~~~~~~~~~\n",
      "========== EQUILATERAL TRIANGLE ==========\n",
      "Enter the SIDE length of triangle -> 8\n",
      "Area of Equilateral Triangle will be -> 27.71\n",
      "~~~~~~~~~~~~~~~~~~~~\n",
      "========== ISOSCELES TRIANGLE ==========\n",
      "Input the length of the base of triangle -> 3\n",
      "Input the length of each equal side of triangle -> 5\n",
      "Area of Isosceles Triangle having equal sides of 5 will be, -> 7.15\n"
     ]
    }
   ],
   "source": [
    "import math\n",
    "# When the base and height of a triangle are given.\n",
    "print('='*10 + \" RIGHT-ANGLED TRIANGLE \" + '='*10)\n",
    "base = int(input(\"Enter BASE length of triangle -> \"))\n",
    "height = int(input(\"Enter HEIGHT of triangle -> \"))\n",
    "def tri_area_r(*args):\n",
    "    return 0.5 * base * height\n",
    "print(f\"Area of Triangle with BASE={base} and HEIGHT={height} is\", tri_area_r(base, height))\n",
    "\n",
    "print(\"~\"*20) # SEPERATOR LINE\n",
    "# When the three different sides of a triangle are given\n",
    "print('='*10 + \" SCALENE TRIANGLE \" + '='*10)\n",
    "side_1 = int(input(\"Enter the length of first SIDE-> \"))\n",
    "side_2 = int(input(\"Enter the length of second SIDE-> \"))\n",
    "side_3 = int(input(\"Enter the length of third SIDE -> \"))\n",
    "semi_perimeter = (side_1 + side_2 + side_3) / 2\n",
    "def scl_area(*args):\n",
    "    return round(math.sqrt(semi_perimeter*(semi_perimeter - side_1)*(semi_perimeter - side_2)*(semi_perimeter - side_3)),2)\n",
    "print(f\"Area of Triangle with First SIDE={side_1},Second SIDE={side_2} and Third SIDE={side_3} is\",scl_area(side_1,side_2,side_3,semi_perimeter))\n",
    "\n",
    "print(\"~\"*20) # SEPERATOR LINE\n",
    "# When two sides and the included angle is given.\n",
    "print('='*10 + \" WHEN PROVIDED TWO SIDES & ANGLE BETWEEN \" + '='*10)\n",
    "s1 = int(input(\"Enter the first SIDE length of triangle -> \"))\n",
    "s2 = int(input(\"Enter the second SIDE length of triangle -> \"))\n",
    "angle = int(input(\"Enter the angle value between two sides -> \"))\n",
    "def t_area(*args):\n",
    "    return round(0.5 * s1 * s2 * math.sin(angle))\n",
    "print(f\"Area of Triangle with First SIDE={s1},Second SIDE={s2} and having included angle={angle} degree will be\",t_area(s1,s2,angle))\n",
    "\n",
    "print(\"~\"*20) # SEPERATOR LINE\n",
    "# When it is an equilateral triangle and one side is given.\n",
    "print('='*10 + \" EQUILATERAL TRIANGLE \" + '='*10)\n",
    "one_side = int(input(\"Enter the SIDE length of triangle -> \"))\n",
    "def elt_area(one_side):\n",
    "    return (math.sqrt(3)/4) * one_side**2\n",
    "print(f\"Area of Equilateral Triangle will be ->\",round(elt_area(one_side),2))\n",
    "\n",
    "print(\"~\"*20) # SEPERATOR LINE\n",
    "# When it is an isosceles triangle and an equal side and base is given.\n",
    "print('='*10 + \" ISOSCELES TRIANGLE \" + '='*10)\n",
    "base_len = int(input(\"Input the length of the base of triangle -> \"))\n",
    "eq_side_len = int(input(\"Input the length of each equal side of triangle -> \"))\n",
    "def it_area(*args):\n",
    "    return base_len/4 * math.sqrt(4 * eq_side_len ** 2 - base_len ** 2)\n",
    "print(f\"Area of Isosceles Triangle having equal sides of {eq_side_len} will be, ->\",round(it_area(base_len,eq_side_len),2))"
   ]
  },
  {
   "cell_type": "markdown",
   "id": "3d1d49b0",
   "metadata": {},
   "source": [
    "### 5. Write a Python program to swap two variables."
   ]
  },
  {
   "cell_type": "code",
   "execution_count": 5,
   "id": "29b1ee59",
   "metadata": {},
   "outputs": [
    {
     "name": "stdout",
     "output_type": "stream",
     "text": [
      "Before Swapping : Value of var1 = 53\n",
      "Before Swapping : Value of var2 = 145\n",
      "After Swapping : Value of var1 = 145\n",
      "After Swapping : Value of var2 = 53\n"
     ]
    }
   ],
   "source": [
    "import random\n",
    "var1 = random.randint(1,100)\n",
    "var2 = random.randint(100,200)\n",
    "print(f\"Before Swapping : Value of var1 = {var1}\")\n",
    "print(f\"Before Swapping : Value of var2 = {var2}\")\n",
    "var_temp = var1\n",
    "var1 = var2\n",
    "var2 = var_temp\n",
    "print(f\"After Swapping : Value of var1 = {var1}\")\n",
    "print(f\"After Swapping : Value of var2 = {var2}\")"
   ]
  },
  {
   "cell_type": "markdown",
   "id": "7add0416",
   "metadata": {},
   "source": [
    "### 6. Write a Python program to generate a random number."
   ]
  },
  {
   "cell_type": "code",
   "execution_count": 6,
   "id": "0a540217",
   "metadata": {},
   "outputs": [
    {
     "name": "stdout",
     "output_type": "stream",
     "text": [
      "Generating any random number with decimal places upto 2 digits : 0.43\n",
      "Generating any random integer number : 88\n"
     ]
    }
   ],
   "source": [
    "import random\n",
    "rand_d = random.random()\n",
    "round_rand_d = round(rand_d,2)\n",
    "print(f\"Generating any random number with decimal places upto 2 digits : {round_rand_d}\")\n",
    "rand_i = random.randint(50,101)\n",
    "print(f\"Generating any random integer number : {rand_i}\")"
   ]
  },
  {
   "cell_type": "markdown",
   "id": "1f976422",
   "metadata": {},
   "source": [
    "### 7. Write a Python program to convert kilometers to miles."
   ]
  },
  {
   "cell_type": "code",
   "execution_count": 7,
   "id": "c68cb005",
   "metadata": {},
   "outputs": [
    {
     "name": "stdout",
     "output_type": "stream",
     "text": [
      "Distance in Kilometer -> 75\n",
      "Distance Conversion Calculator : 75.0 kilomoter = 46.61 miles\n"
     ]
    }
   ],
   "source": [
    "kilometer = float(input(\"Distance in Kilometer -> \"))\n",
    "def distanceConverter(km):\n",
    "    return round(km / 1.609,2)\n",
    "print(f\"Distance Conversion Calculator : {kilometer} kilomoter =\",distanceConverter(kilometer),\"miles\")"
   ]
  },
  {
   "cell_type": "markdown",
   "id": "d05fecc7",
   "metadata": {},
   "source": [
    "### 8. Write a Python program to check if a number is positive, negative or zero."
   ]
  },
  {
   "cell_type": "code",
   "execution_count": 8,
   "id": "b824fd25",
   "metadata": {},
   "outputs": [
    {
     "name": "stdout",
     "output_type": "stream",
     "text": [
      "Enter any number: -8\n",
      "Check the Sign of any given number :  It is a negative value\n"
     ]
    }
   ],
   "source": [
    "number = float(input(\"Enter any number: \"))\n",
    "def signCheck(n):\n",
    "    if n != 0:\n",
    "        if n > 0:\n",
    "            return \"It is a positive value\"\n",
    "        elif n < 0:\n",
    "            return \"It is a negative value\"\n",
    "    else:\n",
    "        return \"It's a ZERO value\"\n",
    "print(\"Check the Sign of any given number : \", signCheck(number))"
   ]
  },
  {
   "cell_type": "markdown",
   "id": "c12122bf",
   "metadata": {},
   "source": [
    "### 9. Write a Python program to check if a number is odd or even."
   ]
  },
  {
   "cell_type": "code",
   "execution_count": 9,
   "id": "767fecb4",
   "metadata": {},
   "outputs": [
    {
     "name": "stdout",
     "output_type": "stream",
     "text": [
      "Enter any number: 56\n",
      "Odd / Even Check: You entered an Even number\n"
     ]
    }
   ],
   "source": [
    "number = int(input(\"Enter any number: \"))\n",
    "\n",
    "def is_odd_even(n):\n",
    "    if n > 0:\n",
    "        if n % 2 == 0:\n",
    "            return \"You entered an Even number\"\n",
    "        else:\n",
    "            return \"You entered an Odd number\"\n",
    "    elif n == 0:\n",
    "        return \"You entered an even number, Zero is too considered as Even\"\n",
    "    else:\n",
    "        return \"The number needs to be a positive integer!\"\n",
    "print(\"Odd / Even Check:\",is_odd_even(number))"
   ]
  },
  {
   "cell_type": "markdown",
   "id": "72070f6c",
   "metadata": {},
   "source": [
    "### 10. Write a Python program to check if a year is a leap year."
   ]
  },
  {
   "cell_type": "code",
   "execution_count": 10,
   "id": "5bccafac",
   "metadata": {},
   "outputs": [
    {
     "name": "stdout",
     "output_type": "stream",
     "text": [
      "Mention a year -> 1947\n",
      "Entered year of 1947 is not a leap year\n"
     ]
    }
   ],
   "source": [
    "year = int(input(\"Mention a year -> \"))\n",
    "\n",
    "def isLeap(y):\n",
    "    if len(str(year)) == 4:\n",
    "        if y % 4 == 0:\n",
    "            return \"a perfect Leap Year!\"\n",
    "        else:\n",
    "            return \"not a leap year\"\n",
    "    else:\n",
    "        return \"You entered something wrong. Year must be of 4 digits\"\n",
    "print(f\"Entered year of {year} is\",isLeap(year))"
   ]
  },
  {
   "cell_type": "markdown",
   "id": "d7c6555f",
   "metadata": {},
   "source": [
    "### 11. Write a Python program to find the largest of three numbers."
   ]
  },
  {
   "cell_type": "code",
   "execution_count": 11,
   "id": "9f6975b5",
   "metadata": {},
   "outputs": [
    {
     "name": "stdout",
     "output_type": "stream",
     "text": [
      "First num : 8\n",
      "Second num : 56\n",
      "Third num : 745\n",
      "Largest among the three numbers provided ->  745\n"
     ]
    }
   ],
   "source": [
    "a = int(input(\"First num : \"))\n",
    "b = int(input(\"Second num : \"))\n",
    "c = int(input(\"Third num : \"))\n",
    "def findLargest(*args):\n",
    "    return max(args)\n",
    "print(\"Largest among the three numbers provided -> \",findLargest(a,b,c))"
   ]
  },
  {
   "cell_type": "markdown",
   "id": "bd404a9f",
   "metadata": {},
   "source": [
    "### 12. Write a Python program to find the factorial of a number."
   ]
  },
  {
   "cell_type": "code",
   "execution_count": 12,
   "id": "520d1a77",
   "metadata": {},
   "outputs": [
    {
     "name": "stdout",
     "output_type": "stream",
     "text": [
      "Enter a number: 7\n",
      "Factorial of 7 is -> 5040\n"
     ]
    }
   ],
   "source": [
    "num = int(input(\"Enter a number: \"))\n",
    "def findFactorial(n):\n",
    "    fact = 1\n",
    "    for i in range(1, n + 1):\n",
    "        fact = i * fact\n",
    "    return fact\n",
    "print(f\"Factorial of {num} is ->\",findFactorial(num))"
   ]
  },
  {
   "cell_type": "markdown",
   "id": "db8669fa",
   "metadata": {},
   "source": [
    "### 13. Write a Python program to display the multiplication table."
   ]
  },
  {
   "cell_type": "code",
   "execution_count": 13,
   "id": "af0ebc99",
   "metadata": {},
   "outputs": [
    {
     "name": "stdout",
     "output_type": "stream",
     "text": [
      "Enter a value -> 20\n",
      "=============== MULTIPLICATION TABLE ===============\n",
      "20 X 1 = 20\n",
      "20 X 2 = 40\n",
      "20 X 3 = 60\n",
      "20 X 4 = 80\n",
      "20 X 5 = 100\n",
      "20 X 6 = 120\n",
      "20 X 7 = 140\n",
      "20 X 8 = 160\n",
      "20 X 9 = 180\n",
      "20 X 10 = 200\n"
     ]
    }
   ],
   "source": [
    "value = int(input(\"Enter a value -> \"))\n",
    "print('='*15,\"MULTIPLICATION TABLE\",'='*15)\n",
    "def m_table(n):\n",
    "    for i in range(1, 11):\n",
    "        result = i * n\n",
    "        print(f\"{n} X {i} =\",result)\n",
    "m_table(value)"
   ]
  },
  {
   "cell_type": "markdown",
   "id": "cd64075b",
   "metadata": {},
   "source": [
    "### 14. Write a Python program to print the Fibonacci sequence."
   ]
  },
  {
   "cell_type": "code",
   "execution_count": 49,
   "id": "ff0e545a",
   "metadata": {},
   "outputs": [
    {
     "name": "stdout",
     "output_type": "stream",
     "text": [
      "How many numbers you want in Fibonacci Sequence? -> 10\n",
      "0 1 1 2 3 5 8 13 21 34 "
     ]
    }
   ],
   "source": [
    "# fibonacci sequence consisting of first n positive integer numbers\n",
    "n = int(input(\"How many numbers you want in Fibonacci Sequence? -> \"))\n",
    "first = 0\n",
    "second = 1\n",
    "i = 1\n",
    "print(first,second,end=\" \")\n",
    "i = i + 1\n",
    "while i < n:\n",
    "    next_num = first + second\n",
    "    print(next_num,end=\" \")\n",
    "    i += 1\n",
    "    first, second = second, next_num"
   ]
  },
  {
   "cell_type": "markdown",
   "id": "82bc564f",
   "metadata": {},
   "source": [
    "### 15. Write a Python program to check if a number is an Armstrong number."
   ]
  },
  {
   "cell_type": "code",
   "execution_count": 123,
   "id": "88546960",
   "metadata": {},
   "outputs": [
    {
     "name": "stdout",
     "output_type": "stream",
     "text": [
      "Is this an Armstrong Number? -> 143\n",
      "143 can't be an Armstrong Value.\n"
     ]
    }
   ],
   "source": [
    "num = int(input(\"Is this an Armstrong Number? -> \"))\n",
    "list_num = list()\n",
    "def is_armstrong(n):\n",
    "    for i,digit in enumerate(str(n)):\n",
    "        digit = int(digit)\n",
    "        list_num.append(pow(digit,3))\n",
    "    return sum(list_num)\n",
    "if num == is_armstrong(num):\n",
    "    print(f\"{num} is basically an Armstrong Value.\")\n",
    "else:\n",
    "    print(f\"{num} can't be an Armstrong Value.\")"
   ]
  },
  {
   "cell_type": "markdown",
   "id": "20a2fc08",
   "metadata": {},
   "source": [
    "### 16. Write a Python program to find the sum of natural numbers."
   ]
  },
  {
   "cell_type": "code",
   "execution_count": 131,
   "id": "00b1e2d4",
   "metadata": {},
   "outputs": [
    {
     "name": "stdout",
     "output_type": "stream",
     "text": [
      "Enter a number: 10\n",
      "Sum of first 10 natural numbers will be -> 55\n"
     ]
    }
   ],
   "source": [
    "n = int(input(\"Enter a number: \"))\n",
    "def sum_natural(n):\n",
    "    if n < 0:\n",
    "        return \"Enter positive integer value.\"\n",
    "    else:\n",
    "        total = 0\n",
    "        while n > 0:\n",
    "            total += n\n",
    "            n -= 1\n",
    "    return total\n",
    "print(f\"Sum of first {n} natural numbers will be ->\",sum_natural(n))"
   ]
  },
  {
   "cell_type": "markdown",
   "id": "d1f76ab8",
   "metadata": {},
   "source": [
    "### 17. Write a Python program to find the sum of digits of a number."
   ]
  },
  {
   "cell_type": "code",
   "execution_count": 108,
   "id": "1520e1eb",
   "metadata": {},
   "outputs": [
    {
     "name": "stdout",
     "output_type": "stream",
     "text": [
      "Enter any positive integer number -> 7899\n",
      "Sum of all digits of the number 7899 is = 33\n"
     ]
    }
   ],
   "source": [
    "num = int(input(\"Enter any positive integer number -> \"))\n",
    "num_list = list()\n",
    "sum_value = 0\n",
    "for i,digit in enumerate(str(num)):\n",
    "    int_digit = int(digit)\n",
    "    num_list.append(int_digit)\n",
    "print(f\"Sum of all digits of the number {num} is =\",sum(num_list))"
   ]
  },
  {
   "cell_type": "markdown",
   "id": "d06ba4d9",
   "metadata": {},
   "source": [
    "### 18. Write a Python program to reverse a number."
   ]
  },
  {
   "cell_type": "code",
   "execution_count": 149,
   "id": "bdef8a00",
   "metadata": {},
   "outputs": [
    {
     "name": "stdout",
     "output_type": "stream",
     "text": [
      "Enter a number -> 456\n",
      "456 is reversed and it is now 654\n"
     ]
    }
   ],
   "source": [
    "val = int(input(\"Enter a number -> \"))\n",
    "def reverse_num(v):\n",
    "    list_str = list(str(v))\n",
    "    for i in list_str:         \n",
    "        reversed_list = list_str[::-1]\n",
    "        result = str().join(map(str,reversed_list))\n",
    "        result = int(result)\n",
    "    return result\n",
    "print(f\"{val} is reversed and it is now\",reverse_num(val))"
   ]
  },
  {
   "cell_type": "markdown",
   "id": "aec5e130",
   "metadata": {},
   "source": [
    "### 19. Write a Python program to convert decimal to binary, octal and hexadecimal."
   ]
  },
  {
   "cell_type": "code",
   "execution_count": 25,
   "id": "5a3e0e25",
   "metadata": {},
   "outputs": [
    {
     "name": "stdout",
     "output_type": "stream",
     "text": [
      "Enter a decimal value: 257\n",
      "Decimal 257 to Binary ->  100000001\n",
      "Decimal 257 to Octal ->  401\n",
      "Decimal 257 to Hexadecimal ->  101\n"
     ]
    }
   ],
   "source": [
    "dec = int(input(\"Enter a decimal value: \"))\n",
    "def convert(dec):\n",
    "    binary = format(dec, 'b')\n",
    "    octal = format(dec, 'o')\n",
    "    hexa = format(dec, 'x')\n",
    "    print(f\"Decimal {dec} to Binary -> \",binary)\n",
    "    print(f\"Decimal {dec} to Octal -> \",octal)\n",
    "    print(f\"Decimal {dec} to Hexadecimal -> \",hexa)\n",
    "convert(dec)"
   ]
  },
  {
   "cell_type": "markdown",
   "id": "3208edbd",
   "metadata": {},
   "source": [
    "### 20. Write a Python program to find HCF or GCD of two numbers."
   ]
  },
  {
   "cell_type": "code",
   "execution_count": 29,
   "id": "8093f504",
   "metadata": {},
   "outputs": [
    {
     "name": "stdout",
     "output_type": "stream",
     "text": [
      "Enter first number -> 753\n",
      "Enter second number -> 159\n",
      "Highest Common Factor/Greatest Common Divisor - 3\n"
     ]
    }
   ],
   "source": [
    "import math\n",
    "n_one = int(input(\"Enter first number -> \"))\n",
    "n_two = int(input(\"Enter second number -> \"))\n",
    "print(\"Highest Common Factor/Greatest Common Divisor -\",math.gcd(n_one,n_two))"
   ]
  },
  {
   "cell_type": "markdown",
   "id": "d9d5c7e6",
   "metadata": {},
   "source": [
    "### 21. Write a Python program to find LCM of two numbers."
   ]
  },
  {
   "cell_type": "code",
   "execution_count": 1,
   "id": "fdb36b15",
   "metadata": {},
   "outputs": [
    {
     "name": "stdout",
     "output_type": "stream",
     "text": [
      "Enter first number -> 5\n",
      "Enter second number -> 9\n",
      "Least Common Multiple of 5 & 9 - 45\n"
     ]
    }
   ],
   "source": [
    "import math\n",
    "n_one = int(input(\"Enter first number -> \"))\n",
    "n_two = int(input(\"Enter second number -> \"))\n",
    "print(f\"Least Common Multiple of {n_one} & {n_two} -\",math.lcm(n_one,n_two))"
   ]
  },
  {
   "cell_type": "markdown",
   "id": "ebf0e6a9",
   "metadata": {},
   "source": [
    "### 22. Write a Python program to count the number of each vowel in a string."
   ]
  },
  {
   "cell_type": "code",
   "execution_count": 6,
   "id": "5e503701",
   "metadata": {},
   "outputs": [
    {
     "name": "stdout",
     "output_type": "stream",
     "text": [
      "Enter some words/sentences -> I am Sayantan Naha. I live in Siliguri, West Bengal, India.\n",
      "The Dictionary consisting of Vowels(aeiou) and each of it's total count present in user input string --> \n",
      " {'a': 8, 'e': 3, 'i': 9, 'o': 0, 'u': 1}\n"
     ]
    }
   ],
   "source": [
    "string = str(input(\"Enter some words/sentences -> \"))\n",
    "v = \"aeiou\"\n",
    "count = 0\n",
    "def c_eachVowel(string,v):\n",
    "    count_dict = {}.fromkeys(v,count)\n",
    "    for char in string.lower():\n",
    "        if char in count_dict:\n",
    "            count_dict[char] += 1\n",
    "    return count_dict\n",
    "print(f\"The Dictionary consisting of Vowels({v}) and each of it's total count present in user input string --> \\n\",c_eachVowel(string,v))"
   ]
  },
  {
   "cell_type": "markdown",
   "id": "cf08d6ab",
   "metadata": {},
   "source": [
    "### 23. Write a Python program to remove punctuation from a string."
   ]
  },
  {
   "cell_type": "code",
   "execution_count": 30,
   "id": "b034e7aa",
   "metadata": {},
   "outputs": [
    {
     "name": "stdout",
     "output_type": "stream",
     "text": [
      "Enter an input string --> Hello!! World! I'm learning Python,the best programming language. Any doubt?\n",
      "After removing punctuation marks from the string --> Hello World Im learning Pythonthe best programming language Any doubt\n"
     ]
    }
   ],
   "source": [
    "import string\n",
    "str_input = str(input(\"Enter an input string --> \"))\n",
    "for p in string.punctuation:\n",
    "    str_input = str_input.replace(p,\"\")\n",
    "print(f\"After removing punctuation marks from the string -->\",str_input)"
   ]
  },
  {
   "cell_type": "markdown",
   "id": "1857e2c0",
   "metadata": {},
   "source": [
    "### 24. Write a Python program to sort a list of numbers in ascending order."
   ]
  },
  {
   "cell_type": "code",
   "execution_count": 17,
   "id": "0e08c19e",
   "metadata": {},
   "outputs": [
    {
     "name": "stdout",
     "output_type": "stream",
     "text": [
      "In Ascending Order --> [1, 4, 12, 25, 56, 78, 90, 234]\n"
     ]
    }
   ],
   "source": [
    "num_list = [12,78,234,4,56,90,1,25]\n",
    "num_list.sort()\n",
    "print(\"In Ascending Order -->\",num_list)"
   ]
  },
  {
   "cell_type": "markdown",
   "id": "b7a3bf43",
   "metadata": {},
   "source": [
    "### 25. Write a Python program to merge two lists and sort it."
   ]
  },
  {
   "cell_type": "code",
   "execution_count": 25,
   "id": "bf3bf242",
   "metadata": {},
   "outputs": [
    {
     "name": "stdout",
     "output_type": "stream",
     "text": [
      "NESTED -->  [[67, 89, 34, 9, 10, 3], [90, 77, 12, 7, 101, 95]]\n",
      "MERGED -->  [67, 89, 34, 9, 10, 3, 90, 77, 12, 7, 101, 95]\n",
      "SORTED -->  [3, 7, 9, 10, 12, 34, 67, 77, 89, 90, 95, 101]\n"
     ]
    }
   ],
   "source": [
    "l1 = [67,89,34,9,10,3]\n",
    "l2 = [90,77,12,7,101,95]\n",
    "nested_list = [l1,l2]\n",
    "print(\"NESTED --> \",nested_list)\n",
    "merged_list = [i for j in nested_list for i in j]\n",
    "print(\"MERGED --> \",merged_list)\n",
    "sorted_list = sorted(merged_list)\n",
    "print(\"SORTED --> \",sorted_list)"
   ]
  }
 ],
 "metadata": {
  "kernelspec": {
   "display_name": "Python 3 (ipykernel)",
   "language": "python",
   "name": "python3"
  },
  "language_info": {
   "codemirror_mode": {
    "name": "ipython",
    "version": 3
   },
   "file_extension": ".py",
   "mimetype": "text/x-python",
   "name": "python",
   "nbconvert_exporter": "python",
   "pygments_lexer": "ipython3",
   "version": "3.11.4"
  }
 },
 "nbformat": 4,
 "nbformat_minor": 5
}
