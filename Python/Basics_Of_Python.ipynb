{
 "cells": [
  {
   "cell_type": "markdown",
   "id": "36841678",
   "metadata": {},
   "source": [
    "## Simple Expression"
   ]
  },
  {
   "cell_type": "markdown",
   "id": "50807fe7",
   "metadata": {},
   "source": [
    "### Keywords are the reserved words in Python. We cannot use a keyword as a variable name, function name or any other identifier. They have some special meaning, recognized by Python Language."
   ]
  },
  {
   "cell_type": "code",
   "execution_count": 1,
   "id": "a0899aae",
   "metadata": {},
   "outputs": [],
   "source": [
    "import keyword # Importing keyword module"
   ]
  },
  {
   "cell_type": "code",
   "execution_count": 2,
   "id": "d05259c2",
   "metadata": {},
   "outputs": [
    {
     "name": "stdout",
     "output_type": "stream",
     "text": [
      "['False', 'None', 'True', 'and', 'as', 'assert', 'async', 'await', 'break', 'class', 'continue', 'def', 'del', 'elif', 'else', 'except', 'finally', 'for', 'from', 'global', 'if', 'import', 'in', 'is', 'lambda', 'nonlocal', 'not', 'or', 'pass', 'raise', 'return', 'try', 'while', 'with', 'yield']\n"
     ]
    }
   ],
   "source": [
    "print(keyword.kwlist) # All keywords at one place"
   ]
  },
  {
   "cell_type": "markdown",
   "id": "4960671e",
   "metadata": {},
   "source": [
    "### Boolean Expressions created with Keywords & Operators"
   ]
  },
  {
   "cell_type": "code",
   "execution_count": 3,
   "id": "304f7ced",
   "metadata": {},
   "outputs": [
    {
     "name": "stdout",
     "output_type": "stream",
     "text": [
      "1) False\n",
      "2) True\n",
      "3) True\n",
      "4) True\n",
      "5) False\n",
      "6) True\n",
      "7) False\n",
      "8) False\n",
      "9) False\n",
      "10) True\n",
      "11) True\n",
      "----------------------------------------\n",
      "12) 1 1 2 0 0 0\n"
     ]
    }
   ],
   "source": [
    "# pythonn keywords --> and, or, not, is, True, False\n",
    "print(\"1)\",True and False)\n",
    "print(\"2)\",True and True)\n",
    "print(\"3)\",True or False)\n",
    "print(\"4)\",True or True)\n",
    "print(\"5)\",False or False)\n",
    "print(\"6)\",True is True)\n",
    "print(\"7)\",True is False)\n",
    "print(\"8)\",False is True)\n",
    "print(\"9)\",not True)\n",
    "print(\"10)\",not False)\n",
    "print(\"11)\",True and False or True)\n",
    "print('--' * 20)\n",
    "print(\"12)\",True + False,True - False,True + True,True - True,False - False,False + False)"
   ]
  },
  {
   "cell_type": "markdown",
   "id": "69f33958",
   "metadata": {},
   "source": [
    "## Variables & DataTypes"
   ]
  },
  {
   "cell_type": "markdown",
   "id": "04fb0223",
   "metadata": {},
   "source": [
    "#### Integer & Float :-"
   ]
  },
  {
   "cell_type": "code",
   "execution_count": 4,
   "id": "b2fb8f73",
   "metadata": {},
   "outputs": [
    {
     "name": "stdout",
     "output_type": "stream",
     "text": [
      "<class 'int'> <class 'float'>\n"
     ]
    }
   ],
   "source": [
    "var_1 = 20   # var_1 is variable name & 20 is integer type value of variable var_1\n",
    "var_2 = 30.5 # similarly var_2 is variable name & 30.5 is float type value of variable var_2\n",
    "# let's check the datatype of previous two variables using python built-in function --> type()\n",
    "print(type(var_1),type(var_2))"
   ]
  },
  {
   "cell_type": "markdown",
   "id": "885c1214",
   "metadata": {},
   "source": [
    "#### Complex Numbers :-"
   ]
  },
  {
   "cell_type": "code",
   "execution_count": 5,
   "id": "7b66d7c3",
   "metadata": {},
   "outputs": [
    {
     "name": "stdout",
     "output_type": "stream",
     "text": [
      "<class 'complex'>\n"
     ]
    }
   ],
   "source": [
    "complex_num = 3j + 8     # It has to parts --> first part is having the imaginary j and second part is the real number\n",
    "print(type(complex_num))"
   ]
  },
  {
   "cell_type": "markdown",
   "id": "fc74f386",
   "metadata": {},
   "source": [
    "#### String :-"
   ]
  },
  {
   "cell_type": "code",
   "execution_count": 6,
   "id": "905ff601",
   "metadata": {},
   "outputs": [
    {
     "name": "stdout",
     "output_type": "stream",
     "text": [
      "Sayantan Naha\n",
      "<class 'str'> <class 'str'>\n"
     ]
    }
   ],
   "source": [
    "# f_name & l_name both are stroring string type data, having group of alphabets\n",
    "# wrapped in single,double,or even triple quotes which is used only for documentation purpose. \n",
    "f_name = \"Sayantan\"\n",
    "l_name = \"Naha\"\n",
    "print(f_name + \" \" + l_name) # string concatenation or joinning two or more strings using + operator\n",
    "# let's check the datatype\n",
    "print(type(f_name),type(l_name))"
   ]
  },
  {
   "cell_type": "code",
   "execution_count": 7,
   "id": "059ede89",
   "metadata": {},
   "outputs": [
    {
     "name": "stdout",
     "output_type": "stream",
     "text": [
      "Sunday Sunday Sunday Sunday Sunday \n"
     ]
    },
    {
     "ename": "TypeError",
     "evalue": "can only concatenate str (not \"int\") to str",
     "output_type": "error",
     "traceback": [
      "\u001b[1;31m---------------------------------------------------------------------------\u001b[0m",
      "\u001b[1;31mTypeError\u001b[0m                                 Traceback (most recent call last)",
      "Cell \u001b[1;32mIn[7], line 3\u001b[0m\n\u001b[0;32m      1\u001b[0m day \u001b[38;5;241m=\u001b[39m \u001b[38;5;124m\"\u001b[39m\u001b[38;5;124mSunday \u001b[39m\u001b[38;5;124m\"\u001b[39m\n\u001b[0;32m      2\u001b[0m \u001b[38;5;28mprint\u001b[39m(day \u001b[38;5;241m*\u001b[39m \u001b[38;5;241m5\u001b[39m) \u001b[38;5;66;03m# Here the value inside day variable will be cloned/replicated 5 times\u001b[39;00m\n\u001b[1;32m----> 3\u001b[0m \u001b[38;5;28mprint\u001b[39m(day \u001b[38;5;241m+\u001b[39m var_1)\n",
      "\u001b[1;31mTypeError\u001b[0m: can only concatenate str (not \"int\") to str"
     ]
    }
   ],
   "source": [
    "day = \"Sunday \"\n",
    "print(day * 5) # Here the value inside day variable will be cloned/replicated 5 times\n",
    "print(day + var_1) # Here it will give TypeError because string and integer concatenation can't be possible without converting any of them explicitly"
   ]
  },
  {
   "cell_type": "code",
   "execution_count": 8,
   "id": "15a022ca",
   "metadata": {},
   "outputs": [
    {
     "name": "stdout",
     "output_type": "stream",
     "text": [
      "Sunday 20\n"
     ]
    }
   ],
   "source": [
    "print(day + str(var_1)) # Now it is possible because of explicit(forcefully) typecasting(conversion) to string datatype."
   ]
  },
  {
   "cell_type": "code",
   "execution_count": 9,
   "id": "12bd2a95",
   "metadata": {},
   "outputs": [
    {
     "name": "stdout",
     "output_type": "stream",
     "text": [
      "True False\n",
      "<class 'bool'> <class 'bool'>\n"
     ]
    }
   ],
   "source": [
    "boolean_T = True\n",
    "boolean_F = False\n",
    "print(boolean_T,boolean_F)\n",
    "print(type(boolean_T),type(boolean_F))"
   ]
  },
  {
   "cell_type": "markdown",
   "id": "43d64510",
   "metadata": {},
   "source": [
    "## Data Structure"
   ]
  },
  {
   "cell_type": "markdown",
   "id": "1575a664",
   "metadata": {},
   "source": [
    "#### Lists :- In Python, lists allow us to store a sequence of items in a single variable.  \n",
    "#### List Characteristics ::\n",
    " * Ordered - They maintain the order of elements.\n",
    " * Mutable - Items can be changed after creation.\n",
    " * Allow duplicates - They can contain duplicate values.\n",
    "#### Each element in a list is associated with a number, known as a index. If the specified index does not exist in a list, Python throws the IndexError exception."
   ]
  },
  {
   "cell_type": "code",
   "execution_count": 10,
   "id": "301d063f",
   "metadata": {},
   "outputs": [
    {
     "name": "stdout",
     "output_type": "stream",
     "text": [
      "[]\n"
     ]
    }
   ],
   "source": [
    "# Two ways of empty list creation\n",
    "empty_list = []\n",
    "empty_list = list()\n",
    "print(empty_list)"
   ]
  },
  {
   "cell_type": "code",
   "execution_count": 11,
   "id": "399d183f",
   "metadata": {},
   "outputs": [
    {
     "name": "stdout",
     "output_type": "stream",
     "text": [
      "<class 'list'>\n"
     ]
    }
   ],
   "source": [
    "print(type(empty_list))"
   ]
  },
  {
   "cell_type": "code",
   "execution_count": 12,
   "id": "80ad28f8",
   "metadata": {},
   "outputs": [
    {
     "name": "stdout",
     "output_type": "stream",
     "text": [
      "['a', 'ab', 'b', 'ba']\n"
     ]
    }
   ],
   "source": [
    "# creating a proper list of string objects/elements\n",
    "lst = ['a','ab','b','ba']\n",
    "print(lst)"
   ]
  },
  {
   "cell_type": "code",
   "execution_count": 13,
   "id": "9a79fc7b",
   "metadata": {},
   "outputs": [
    {
     "name": "stdout",
     "output_type": "stream",
     "text": [
      "ba\n"
     ]
    }
   ],
   "source": [
    "# accessing elements using list index which starts from 0, can have negative indexing starting from -1\n",
    "str_el = lst[0]\n",
    "str_el = lst[1]\n",
    "str_el = lst[2]\n",
    "str_el = lst[3]\n",
    "str_el = lst[-1] # It print the value of last assignment i.e. lst[-1] because same variable gets updated. \n",
    "                 # Also values at index -1 & index 3 are pointing to same location.\n",
    "print(str_el)    "
   ]
  },
  {
   "cell_type": "code",
   "execution_count": 14,
   "id": "8b9817fe",
   "metadata": {},
   "outputs": [
    {
     "name": "stdout",
     "output_type": "stream",
     "text": [
      "['a', 'ab', 'b', 'ba']\n"
     ]
    }
   ],
   "source": [
    "# How to copy a list to another\n",
    "l = lst  # Or l = list(lst)\n",
    "print(l)"
   ]
  },
  {
   "cell_type": "code",
   "execution_count": 15,
   "id": "69798fef",
   "metadata": {},
   "outputs": [
    {
     "name": "stdout",
     "output_type": "stream",
     "text": [
      "\n",
      "DIFFERENT WAYS TO MANIPULATE A LIST / LIST METHODS --> \n",
      "============================================================\n",
      "Using copy() method --> [30, 90, 50, 80]\n",
      "----------------------------------------------------------------------\n",
      "Using built-in list() method --> ['S', 'a', 'y', 'a', 'n', 't', 'a', 'n']\n",
      "------------------------------------------------------------------------------------------\n",
      "Using list append() method --> ['Naha']\n",
      "Another list append() --> ['S', 'a', 'y', 'a', 'n', 't', 'a', 'n', ['Kunal', 'Arijit', 'Vishal', 'Suman', 'Tanmay']]\n",
      "More list append() --> ['Sayantan', ['Kunal', 'Arijit', 'Vishal', 'Suman', 'Tanmay']]\n",
      "------------------------------------------------------------------------------------------\n",
      "Using insert() method --> ['Sayantan', ['Kunal', 'Arijit', 'Vishal', 'Suman', 'Tanmay'], 'Prithwijit']\n",
      "------------------------------------------------------------------------------------------\n",
      "Using len() method --> 3\n",
      "------------------------------------------------------------------------------------------\n",
      "Replacing/Adding object --> ['Sayantan', ['Kunal', 'Arijit', 'Vishal', 'Samrat', 'Tanmay'], 'Prithwijit']\n",
      "------------------------------------------------------------------------------------------\n",
      "List slicing technique--> ['Arijit', 'Samrat']\n",
      "Another list slicing --> ['Prithwijit', 'Sayantan']\n",
      "------------------------------------------------------------------------------------------\n",
      "List concatenation --> ['Sayantan', ['Kunal', 'Arijit', 'Vishal', 'Samrat', 'Tanmay'], 'Prithwijit', 'Anirban']\n",
      "------------------------------------------------------------------------------------------\n",
      "List count() method to count total occurance of 45 in [23, 90, 67, 45, 87, 65, 89, 34, 23, 90, 45] --> 2\n",
      "------------------------------------------------------------------------------------------\n",
      "Extented list --> [23, 90, 67, 45, 87, 65, 89, 34, 23, 90, 45, 75, 30, 69]\n",
      "------------------------------------------------------------------------------------------\n",
      "List after deletion --> [23, 67, 45, 87, 65, 89, 34, 23, 90, 45, 75, 30]\n",
      "------------------------------------------------------------------------------------------\n",
      "REVERSED --> [30, 75, 45, 90, 23, 34, 89, 65, 87, 45, 67, 23]\n",
      "SORTED ASCENDING ORDER --> [23, 23, 30, 34, 45, 45, 65, 67, 75, 87, 89, 90]\n",
      "SORTED DESCENDING ORDER --> [90, 89, 87, 75, 67, 65, 45, 45, 34, 30, 23, 23]\n"
     ]
    }
   ],
   "source": [
    "# Different ways to manipulate/edit a list\n",
    "print(\"\\nDifferent ways to manipulate a list / List Methods --> \".upper())\n",
    "print('=='*30)\n",
    "\n",
    "# 1) Using List copy() Method\n",
    "marks = [30,90,50,80]\n",
    "copy_of_marks = marks.copy()\n",
    "print(\"Using copy() method -->\",copy_of_marks)\n",
    "print('--'*35)\n",
    "\n",
    "# 2) Using built-in list() method, but we need to pass an iterable. Can be a string.\n",
    "names = list('Sayantan')\n",
    "name = ['Sayantan']\n",
    "print(\"Using built-in list() method -->\",names)\n",
    "print('--'*45)\n",
    "\n",
    "# 3) Using list append() method\n",
    "my_lname = list() # or []\n",
    "my_lname.append('Naha')\n",
    "print(\"Using list append() method -->\",my_lname)\n",
    "names.append(['Kunal','Arijit','Vishal','Suman','Tanmay'])\n",
    "print(\"Another list append() -->\",names)\n",
    "name.append(['Kunal','Arijit','Vishal','Suman','Tanmay'])\n",
    "print(\"More list append() -->\",name)\n",
    "print('--'*45)\n",
    "\n",
    "# 4) Using list insert(index,insert) method.\n",
    "name.insert(2,'Prithwijit')\n",
    "print(\"Using insert() method -->\",name)\n",
    "print('--'*45)\n",
    "\n",
    "# 5) Using python built-in len() function, check how many elements are there inside a list\n",
    "print(\"Using len() method -->\",len(name))\n",
    "print('--'*45)\n",
    "\n",
    "# 6) How to Replace/Adding object in a list\n",
    "name[1][3] = 'Samrat'\n",
    "print(\"Replacing/Adding object -->\",name)\n",
    "print('--'*45)\n",
    "\n",
    "# 7) List Slicing\n",
    "print(\"List slicing technique-->\",name[1][1:4:2])  # for slicing --> syntax is list_name(initial_index,ending_index,index_jump)\n",
    "print(\"Another list slicing -->\",name[-1::-2])     # negative indexing with backward index_jump = -2\n",
    "print('--'*45)\n",
    "\n",
    "# 8) List Concatenation\n",
    "print(\"List concatenation -->\",name + ['Anirban'])\n",
    "print('--'*45)\n",
    "\n",
    "# 9) List count() --> will show only first element's index if there is any repeatation.\n",
    "list_of_marks = [23,90,67,45,87,65,89,34,23,90,45]\n",
    "print(f\"List count() method to count total occurance of {list_of_marks[3]} in {list_of_marks} -->\",list_of_marks.count(45))\n",
    "print('--'*45)\n",
    "\n",
    "# 10) List extend() --> will extend the list further with provided elements\n",
    "l_one = list_of_marks.copy()\n",
    "l_one.extend([75,30,69])\n",
    "print(\"Extented list -->\",l_one)\n",
    "print('--'*45)\n",
    "\n",
    "# 11) Delete element from list --> pop() & remove() method. But remove() only works with integers \n",
    "#     and in case of any duplication, remove() deletes the first occurance of that element.\n",
    "#     pop() takes the index value, where remove() take the element value as argument\n",
    "l_one.pop(-1)\n",
    "l_one.remove(90) # only first occurance, if duplicates.\n",
    "print(\"List after deletion -->\",l_one)\n",
    "print('--'*45)\n",
    "\n",
    "# 12) Reversing and Sorting List : Using reverse() & sort() method\n",
    "l_one.reverse()\n",
    "print(\"REVERSED -->\",l_one)\n",
    "l_one.sort()\n",
    "print(\"SORTED ASCENDING ORDER -->\",l_one)\n",
    "l_one.sort(reverse=True)\n",
    "print(\"SORTED DESCENDING ORDER -->\",l_one)"
   ]
  },
  {
   "cell_type": "markdown",
   "id": "0cbe8b25",
   "metadata": {},
   "source": [
    "#### Tuple :- A tuple is a collection similar to a Python list. The primary difference is that we cannot modify a tuple once it is created. \n",
    "#### Tuple Characteristics\n",
    "#### Tuples are:\n",
    "\n",
    "* Ordered - They maintain the order of elements.\n",
    "* Immutable - They cannot be changed after creation.\n",
    "* Allow duplicates - They can contain duplicate values."
   ]
  },
  {
   "cell_type": "code",
   "execution_count": 16,
   "id": "7352008a",
   "metadata": {},
   "outputs": [
    {
     "name": "stdout",
     "output_type": "stream",
     "text": [
      "()\n"
     ]
    },
    {
     "ename": "AttributeError",
     "evalue": "'tuple' object has no attribute 'append'",
     "output_type": "error",
     "traceback": [
      "\u001b[1;31m---------------------------------------------------------------------------\u001b[0m",
      "\u001b[1;31mAttributeError\u001b[0m                            Traceback (most recent call last)",
      "Cell \u001b[1;32mIn[16], line 3\u001b[0m\n\u001b[0;32m      1\u001b[0m t \u001b[38;5;241m=\u001b[39m \u001b[38;5;28mtuple\u001b[39m()\n\u001b[0;32m      2\u001b[0m \u001b[38;5;28mprint\u001b[39m(t)\n\u001b[1;32m----> 3\u001b[0m t\u001b[38;5;241m.\u001b[39mappend(\u001b[38;5;124m'\u001b[39m\u001b[38;5;124mKolkata\u001b[39m\u001b[38;5;124m'\u001b[39m)\n",
      "\u001b[1;31mAttributeError\u001b[0m: 'tuple' object has no attribute 'append'"
     ]
    }
   ],
   "source": [
    "t = tuple()\n",
    "print(t)\n",
    "t.append('Kolkata')\n",
    "# We can't apply list append method to a tuple data structure"
   ]
  },
  {
   "cell_type": "code",
   "execution_count": 17,
   "id": "4efab1e5",
   "metadata": {},
   "outputs": [
    {
     "name": "stdout",
     "output_type": "stream",
     "text": [
      "['Kolkata']\n"
     ]
    }
   ],
   "source": [
    "tuple_to_list = list(t)\n",
    "tuple_to_list.append('Kolkata')\n",
    "print(list(tuple_to_list))"
   ]
  },
  {
   "cell_type": "code",
   "execution_count": 18,
   "id": "94068d16",
   "metadata": {},
   "outputs": [
    {
     "name": "stdout",
     "output_type": "stream",
     "text": [
      "('Kolkata',)\n"
     ]
    }
   ],
   "source": [
    "list_to_tuple = tuple(tuple_to_list)\n",
    "print(list_to_tuple)"
   ]
  },
  {
   "cell_type": "code",
   "execution_count": 19,
   "id": "152a58c4",
   "metadata": {},
   "outputs": [
    {
     "ename": "TypeError",
     "evalue": "'tuple' object does not support item assignment",
     "output_type": "error",
     "traceback": [
      "\u001b[1;31m---------------------------------------------------------------------------\u001b[0m",
      "\u001b[1;31mTypeError\u001b[0m                                 Traceback (most recent call last)",
      "Cell \u001b[1;32mIn[19], line 1\u001b[0m\n\u001b[1;32m----> 1\u001b[0m list_to_tuple[\u001b[38;5;241m0\u001b[39m] \u001b[38;5;241m=\u001b[39m \u001b[38;5;124m'\u001b[39m\u001b[38;5;124mBengaluru\u001b[39m\u001b[38;5;124m'\u001b[39m\n\u001b[0;32m      2\u001b[0m list_to_tuple\n",
      "\u001b[1;31mTypeError\u001b[0m: 'tuple' object does not support item assignment"
     ]
    }
   ],
   "source": [
    "list_to_tuple[0] = 'Bengaluru'\n",
    "list_to_tuple\n",
    "# Tuples are immutable in nature, so any item assignment is not allowed"
   ]
  },
  {
   "cell_type": "code",
   "execution_count": 20,
   "id": "b530c771",
   "metadata": {},
   "outputs": [
    {
     "name": "stdout",
     "output_type": "stream",
     "text": [
      "Kolkata\n",
      "Kolkata\n"
     ]
    }
   ],
   "source": [
    "# But we can check any item of a tuple of any index in valid range\n",
    "print(list_to_tuple[0])\n",
    "print(list_to_tuple[-1])"
   ]
  },
  {
   "cell_type": "code",
   "execution_count": 21,
   "id": "3c4f4187",
   "metadata": {},
   "outputs": [
    {
     "name": "stdout",
     "output_type": "stream",
     "text": [
      "TUPLE BUILT-IN METHODS\n",
      "------------------------------\n",
      "2\n",
      "2\n"
     ]
    }
   ],
   "source": [
    "# Tuple Built-in Methods\n",
    "print(\"Tuple Built-in Methods\".upper())\n",
    "print(\"--\"*15)\n",
    "\n",
    "student_marks = (50,60,40,90,80,70,60,50,40,70,10,20,30,7,50,50)\n",
    "print(student_marks.index(40)) # returns first items index in case of duplication\n",
    "\n",
    "print(student_marks.count(70))"
   ]
  },
  {
   "cell_type": "markdown",
   "id": "0b19c9d5",
   "metadata": {},
   "source": [
    "#### Python Sets\n",
    "#### A set is a collection of unique data, meaning that elements within a set cannot be duplicated.\n",
    "\n",
    "#### For instance, if we need to store information about student IDs, a set is suitable since student IDs cannot have duplicates."
   ]
  },
  {
   "cell_type": "code",
   "execution_count": 22,
   "id": "d0929961",
   "metadata": {},
   "outputs": [
    {
     "data": {
      "text/plain": [
       "set"
      ]
     },
     "execution_count": 22,
     "metadata": {},
     "output_type": "execute_result"
    }
   ],
   "source": [
    "student_ids = set()\n",
    "type(student_ids)"
   ]
  },
  {
   "cell_type": "code",
   "execution_count": 23,
   "id": "34a0d4c6",
   "metadata": {},
   "outputs": [
    {
     "data": {
      "text/plain": [
       "{'112347'}"
      ]
     },
     "execution_count": 23,
     "metadata": {},
     "output_type": "execute_result"
    }
   ],
   "source": [
    "# adding elemets to a set\n",
    "student_ids.add('112347')\n",
    "student_ids"
   ]
  },
  {
   "cell_type": "code",
   "execution_count": 24,
   "id": "be322bf8",
   "metadata": {},
   "outputs": [
    {
     "name": "stdout",
     "output_type": "stream",
     "text": [
      "{'112347'}\n"
     ]
    }
   ],
   "source": [
    "# adding duplicate element\n",
    "student_ids.add('112347')\n",
    "print(student_ids)\n",
    "# set didn't get updated"
   ]
  },
  {
   "cell_type": "code",
   "execution_count": 25,
   "id": "0cbb1942",
   "metadata": {},
   "outputs": [
    {
     "data": {
      "text/plain": [
       "{1, 2, 3, 4, 5, 6, 7, 8, 9, 11, 13, 15, 19, 20, 30, 34}"
      ]
     },
     "execution_count": 25,
     "metadata": {},
     "output_type": "execute_result"
    }
   ],
   "source": [
    "# remove duplicates\n",
    "roll_nums = {1,2,3,4,5,6,7,8,9,1,8,4,5,6,3,11,13,15,19,20,13,34,30,20,34}\n",
    "remove_duplicated = set(roll_nums)\n",
    "remove_duplicated"
   ]
  },
  {
   "cell_type": "markdown",
   "id": "23250483",
   "metadata": {},
   "source": [
    "#### Python Dictionary :- \n",
    "#### A Python dictionary is a collection of items, similar to lists and tuples. However, unlike lists and tuples, each item in a dictionary is a key-value pair (consisting of a key and a value).\n",
    "#### Dictionary Keys must be immutable and unique."
   ]
  },
  {
   "cell_type": "code",
   "execution_count": 26,
   "id": "df2fc600",
   "metadata": {},
   "outputs": [
    {
     "name": "stdout",
     "output_type": "stream",
     "text": [
      "{} {}\n"
     ]
    }
   ],
   "source": [
    "my_dict = {}\n",
    "d = dict()\n",
    "print(my_dict,d) # Both are ways to create empty dictionary"
   ]
  },
  {
   "cell_type": "code",
   "execution_count": 27,
   "id": "b09b3ad7",
   "metadata": {},
   "outputs": [
    {
     "data": {
      "text/plain": [
       "34"
      ]
     },
     "execution_count": 27,
     "metadata": {},
     "output_type": "execute_result"
    }
   ],
   "source": [
    "my_dict = {'name':'sayantan','age':34,'gender':'male'}\n",
    "# call the value by their key\n",
    "my_dict['age']"
   ]
  },
  {
   "cell_type": "code",
   "execution_count": 28,
   "id": "35dd93a7",
   "metadata": {},
   "outputs": [
    {
     "data": {
      "text/plain": [
       "{'Roll Number': 16,\n",
       " 'Subjects': ['Maths', 'Chemistry', 'ComputerAppl', 'Physics'],\n",
       " 'Marks': [80, 57, 78, 71]}"
      ]
     },
     "execution_count": 28,
     "metadata": {},
     "output_type": "execute_result"
    }
   ],
   "source": [
    "d = {'Roll Number':16,'Subjects':['Maths','Chemistry','ComputerAppl','Physics'],'Marks':[80,57,78,71]}\n",
    "d"
   ]
  },
  {
   "cell_type": "code",
   "execution_count": 29,
   "id": "02eaf756",
   "metadata": {},
   "outputs": [
    {
     "data": {
      "text/plain": [
       "{'Roll Number': 16,\n",
       " 'Subjects': ['Maths', 'Chemistry', 'ComputerAppl', 'Physics'],\n",
       " 'Marks': [80, 67, 78, 71]}"
      ]
     },
     "execution_count": 29,
     "metadata": {},
     "output_type": "execute_result"
    }
   ],
   "source": [
    "# We can perform different basic arithmatic calculations\n",
    "d['Marks'][1] += 10"
   ]
  },
  {
   "cell_type": "code",
   "execution_count": 30,
   "id": "ab458e3e",
   "metadata": {},
   "outputs": [],
   "source": [
    "# Adding new key:value pair using keys as index\n",
    "d['Academic Year']='2007'"
   ]
  },
  {
   "cell_type": "code",
   "execution_count": 40,
   "id": "bca0983d",
   "metadata": {},
   "outputs": [
    {
     "name": "stdout",
     "output_type": "stream",
     "text": [
      "{'Roll Number': 16, 'Subjects': ['Maths', 'Chemistry', 'ComputerAppl', 'Physics'], 'Marks': [80, 67, 78, 71], 'Academic Year': '2007'}\n"
     ]
    }
   ],
   "source": [
    "print(d)"
   ]
  },
  {
   "cell_type": "code",
   "execution_count": 60,
   "id": "f8c8aaca",
   "metadata": {},
   "outputs": [
    {
     "name": "stdout",
     "output_type": "stream",
     "text": [
      "DICTIONARY METHODS\n",
      "------------------------------\n",
      "ComputerAppl\n",
      "COMPUTERAPPL\n",
      "dict_items([('Roll Number', 16), ('Subjects', ['Maths', 'Chemistry', 'ComputerAppl', 'Physics']), ('Marks', [80, 67, 78, 71]), ('Academic Year', '2005')])\n",
      "dict_keys(['Roll Number', 'Subjects', 'Marks', 'Academic Year'])\n",
      "dict_values([16, ['Maths', 'Chemistry', 'ComputerAppl', 'Physics'], [80, 67, 78, 71], '2005'])\n"
     ]
    }
   ],
   "source": [
    "# Few dictionary methods\n",
    "print(\"dictionary methods\".upper())\n",
    "print(\"--\"*15)\n",
    "print(d['Subjects'][2])\n",
    "print(d['Subjects'][2].upper())\n",
    "d.update({'Academic Year':'2005'})\n",
    "d\n",
    "print(d.items()) # this will return all keys and values associated\n",
    "print(d.keys()) # will return all keys present\n",
    "print(d.values()) # will return only values of each key"
   ]
  },
  {
   "cell_type": "code",
   "execution_count": null,
   "id": "903a089f",
   "metadata": {},
   "outputs": [],
   "source": []
  }
 ],
 "metadata": {
  "kernelspec": {
   "display_name": "Python 3 (ipykernel)",
   "language": "python",
   "name": "python3"
  },
  "language_info": {
   "codemirror_mode": {
    "name": "ipython",
    "version": 3
   },
   "file_extension": ".py",
   "mimetype": "text/x-python",
   "name": "python",
   "nbconvert_exporter": "python",
   "pygments_lexer": "ipython3",
   "version": "3.11.4"
  }
 },
 "nbformat": 4,
 "nbformat_minor": 5
}
