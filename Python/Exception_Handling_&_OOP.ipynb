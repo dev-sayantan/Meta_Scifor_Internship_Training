{
 "cells": [
  {
   "cell_type": "markdown",
   "id": "320bc2f6",
   "metadata": {},
   "source": [
    "## Errors & Exceptions"
   ]
  },
  {
   "cell_type": "markdown",
   "id": "4270635c",
   "metadata": {},
   "source": [
    "#### An exception is an unexpected event that occurs during program execution. Exceptions can be caught and handled by the program.\n",
    "####  Errors, on the other hand, represent certain conditions such as compilation error, logical error in the code, syntax error, library incompatibility etc. Errors are usually beyond the control of the programmer and usually errors should not be handled."
   ]
  },
  {
   "cell_type": "markdown",
   "id": "b45729d3",
   "metadata": {},
   "source": [
    "#### In Python, we can handle exceptions using \"try..except..else..finally\" construct.\n",
    "#### Exception handling with try, except, else, and finally :-\n",
    "* Try: This block will test the excepted error to occur. We should put the part of code inside Try block which may       throw an exception.\n",
    "* Except:  Here we can handle the error.\n",
    "* Else: If there is no exception then this block will be executed.\n",
    "* Finally: Finally block always gets executed either exception is generated or not."
   ]
  },
  {
   "cell_type": "code",
   "execution_count": 1,
   "id": "a5582c91",
   "metadata": {},
   "outputs": [],
   "source": [
    "def divide(n1,n2):\n",
    "    try:\n",
    "        value = n1//n2 #this will return only the decimal integer part (floor division)\n",
    "    except ZeroDivisionError:\n",
    "        print(\"Error! Not Possible. You are dividing by a Zero!\")\n",
    "    else:\n",
    "        print(f\"Correct! You divided {n1} with {n2} and got the floor division value {value}\")\n",
    "    finally:\n",
    "        print(\"This is all about exception handling!\")"
   ]
  },
  {
   "cell_type": "code",
   "execution_count": 2,
   "id": "69a9e6ac",
   "metadata": {},
   "outputs": [
    {
     "name": "stdout",
     "output_type": "stream",
     "text": [
      "Error! Not Possible. You are dividing by a Zero!\n",
      "This is all about exception handling!\n"
     ]
    }
   ],
   "source": [
    "divide(11,0)"
   ]
  },
  {
   "cell_type": "code",
   "execution_count": 3,
   "id": "e1b17a16",
   "metadata": {},
   "outputs": [],
   "source": [
    "def mobile_num():\n",
    "    while True:\n",
    "        try:\n",
    "            value = int(input('Enter your mobile number -->'))\n",
    "            if len(str(value)) != 10:\n",
    "                print('Try to put a 10 digit phone number.')\n",
    "            else:\n",
    "                print('Thanks! for entering a 10 digit phone number.')\n",
    "                break\n",
    "        except:\n",
    "            print(\"Check again! You didn't enter integers. Doesn't seem like a phone number!\")\n",
    "            continue"
   ]
  },
  {
   "cell_type": "code",
   "execution_count": 4,
   "id": "d4628bbd",
   "metadata": {},
   "outputs": [
    {
     "name": "stdout",
     "output_type": "stream",
     "text": [
      "Enter your mobile number -->9432877433\n",
      "Thanks! for entering a 10 digit phone number.\n"
     ]
    }
   ],
   "source": [
    "mobile_num()"
   ]
  },
  {
   "cell_type": "markdown",
   "id": "7a75d154",
   "metadata": {},
   "source": [
    "## OOP Concept in Python - Class & Object\n",
    "#### From real-time imagination and inspirations, we can create objects in Python and it is one of the most popular approaches in progrmming, called Object-Oriented Programming(OOP). An object is an entity that has attributes and behaviors.\n",
    "#### A Class is a blueprint for creation of an object. In Python classes, self is a special parameter that refers to the current object instance itself. Init is a special method in python classes, that acts as a constructor.\n",
    "#### Syntax of Class :: \n",
    "     class ClassName(base_class):\n",
    "              statements"
   ]
  },
  {
   "cell_type": "code",
   "execution_count": 9,
   "id": "fc4178ab",
   "metadata": {},
   "outputs": [
    {
     "name": "stdout",
     "output_type": "stream",
     "text": [
      "Enter your first name: Sayantan\n",
      "Enter your last name: Naha\n",
      "Enter your Ph Number: 9432877433\n",
      "Enter your City Name: Siliguri\n",
      "Enter Username: s_naha\n",
      "Put your Password: piku_1989\n"
     ]
    }
   ],
   "source": [
    "class Account:\n",
    "    def __init__(self,fname=str(input(\"Enter your first name: \")),\n",
    "                lname=str(input(\"Enter your last name: \")),\n",
    "                ph=int(input(\"Enter your Ph Number: \")),\n",
    "                city=str(input(\"Enter your City Name: \")),\n",
    "                uid=input(\"Enter Username: \"),\n",
    "                password=input(\"Put your Password: \")):\n",
    "        self.fname = fname\n",
    "        self.lname = lname\n",
    "        self.ph = ph\n",
    "        self.city = city\n",
    "        self.uid = uid\n",
    "        self.password = password   \n",
    "    def login(self):\n",
    "        while True:\n",
    "            user_id=input(\"Enter Username: \")\n",
    "            password=input(\"Put your Password: \")\n",
    "            if user_id==self.uid and password==self.password:\n",
    "                print(\"Logged in successfully\".upper())\n",
    "                break\n",
    "            else:\n",
    "                print(\"You entered wrong credentials. Please try again.\".upper())\n",
    "                continue"
   ]
  },
  {
   "cell_type": "code",
   "execution_count": 10,
   "id": "22de3d40",
   "metadata": {},
   "outputs": [
    {
     "name": "stdout",
     "output_type": "stream",
     "text": [
      "Enter Username: s_naha\n",
      "Put your Password: piku_1989\n",
      "LOGGED IN SUCCESSFULLY\n"
     ]
    }
   ],
   "source": [
    "cls = Account()  # Creating an Object(A Class instance)\n",
    "cls.login() # Calling the class method login()"
   ]
  },
  {
   "cell_type": "markdown",
   "id": "6b6fc561",
   "metadata": {},
   "source": [
    "## Inheritance :-\n",
    "#### Inheritance, as the name suggests, is a process or methodology or concept of class creation from an existing class. Newly\n",
    "#### created class will continue to inherit the Object, Attributes and Methods of the old class itself.\n",
    "* The newly created class is known as the subclass (child or derived class).\n",
    "* The existing class from which the child class inherits is known as the superclass (parent or base class)."
   ]
  },
  {
   "cell_type": "code",
   "execution_count": 53,
   "id": "7333c1d7",
   "metadata": {},
   "outputs": [
    {
     "name": "stdout",
     "output_type": "stream",
     "text": [
      "Enter Your AccNo. --> 34175584710\n",
      "Your Current Acc Balance --> 48.75\n"
     ]
    }
   ],
   "source": [
    "class User_Bank_Account(Account): # Inherited class --> Account() passed as an argument\n",
    "    def __init__(self,acc_no=int(input(\"Enter Your AccNo. --> \")),\n",
    "                 balance=float(input(\"Your Current Acc Balance --> \")),\n",
    "                 *args): # constructor method of class creation needs its own args \n",
    "                                             # and other *args is of inherited base class --> Account()\n",
    "        super(User_Bank_Account,self).__init__(*args) \n",
    "        # Here,properties are inherited to User_Bank_Account() subclass from base/superclass Account()\n",
    "        self.acc_no = acc_no\n",
    "        self.balance = balance\n",
    "        \n",
    "    def user_details(self):\n",
    "        while True:\n",
    "            acc = int(input(\"Enter your account number: \"))\n",
    "            if acc == self.acc_no:\n",
    "                print(\"Your Name -->\",self.fname + \" \" + self.lname)\n",
    "                print(\"Your A/c No. -->\",self.acc_no)\n",
    "                print(\"Your Current Balance(in INR)-->\",self.balance)\n",
    "                break\n",
    "            else:\n",
    "                print(\"Your A/c No. is not valid. Please enter a proper A/c No.\")\n",
    "                continue\n",
    "    def deposit(self):\n",
    "        print(\"Your previous balance is -->\",self.balance)\n",
    "        add_money = float(input(\"How much you want to deposit now? Rs.\"))\n",
    "        self.balance = self.balance + add_money\n",
    "        print(f\"Your updated A/c balance now.. Rs.{self.balance}\")\n",
    "    def withdraw(self):\n",
    "        print(\"Your current balance is -->\",self.balance)\n",
    "        withdrwal_amount = round(float(input(\"How much you want to withdraw/transfer now from your A/c? Rs.\")))\n",
    "        if withdrwal_amount < self.balance:\n",
    "            print(f\"Your remaining balance after withdrawal.. Rs.\",self.balance - withdrwal_amount)\n",
    "        else:\n",
    "            print(f\"CAUTION! Can't Withdraw. Running out of balance! Current Balance={self.balance} & Withdrawal Amount={withdrwal_amount}\")\n",
    "            \n",
    "uba = User_Bank_Account()"
   ]
  },
  {
   "cell_type": "code",
   "execution_count": 54,
   "id": "e9c66b2a",
   "metadata": {},
   "outputs": [
    {
     "name": "stdout",
     "output_type": "stream",
     "text": [
      "Enter your account number: 56478898095\n",
      "Your A/c No. is not valid. Please enter a proper A/c No.\n",
      "Enter your account number: 34175584710\n",
      "Your Name --> Sayantan Naha\n",
      "Your A/c No. --> 34175584710\n",
      "Your Current Balance(in INR)--> 48.75\n"
     ]
    }
   ],
   "source": [
    "uba.user_details()"
   ]
  },
  {
   "cell_type": "code",
   "execution_count": 55,
   "id": "2b3dd2c4",
   "metadata": {},
   "outputs": [
    {
     "name": "stdout",
     "output_type": "stream",
     "text": [
      "Your previous balance is --> 48.75\n",
      "How much you want to deposit now? Rs.1000\n",
      "Your updated A/c balance now.. Rs.1048.75\n"
     ]
    }
   ],
   "source": [
    "uba.deposit()"
   ]
  },
  {
   "cell_type": "code",
   "execution_count": 56,
   "id": "2530a8a2",
   "metadata": {},
   "outputs": [
    {
     "name": "stdout",
     "output_type": "stream",
     "text": [
      "Your current balance is --> 1048.75\n",
      "How much you want to withdraw/transfer now from your A/c? Rs.800.00\n",
      "Your remaining balance after withdrawal.. Rs. 248.75\n"
     ]
    }
   ],
   "source": [
    "uba.withdraw()"
   ]
  },
  {
   "cell_type": "markdown",
   "id": "ccdaa662",
   "metadata": {},
   "source": [
    "## Encapsulation :-\n",
    "#### Encapsulation refers to the bundling of attributes and methods inside a single class. It prevents outer classes from accessing and changing attributes and methods of a class. This also helps to achieve data hiding.\n",
    "\n",
    "#### In Python, we denote protected attributes using single underscore as the prefix & prefixing double underscore to denote private attributes."
   ]
  },
  {
   "cell_type": "code",
   "execution_count": 75,
   "id": "267bb722",
   "metadata": {},
   "outputs": [
    {
     "name": "stdout",
     "output_type": "stream",
     "text": [
      "<< Calling protected member of Base Class >> PROTECT\n",
      "<< Calling modified protected member,which is modified outside Base Class >> MODIFIED\n",
      "Protected member of object_1 accessed successfully --> PROTECT\n",
      "Protected member of object_2 modified successfully --> MODIFIED\n"
     ]
    }
   ],
   "source": [
    "class Base00:\n",
    "    def __init__(self):\n",
    "        self.attr_one = 'attributeOne'\n",
    "        self._protect = 'protect'.upper()\n",
    "class Derived(Base00):\n",
    "    def __init__(self):\n",
    "        # Calling the constructor(Base) of Base class to get permission for accessing protected member(protect)\n",
    "        Base.__init__(self)\n",
    "        print(\"<< Calling protected member of Base Class >>\",self._protect)\n",
    "        self._modify = 'modified'.upper()\n",
    "        print(\"<< Calling modified protected member,which is modified outside Base Class >>\",self._modify)\n",
    "\n",
    "object_1 = Base00()\n",
    "object_2 = Derived()\n",
    "\n",
    "print(\"Protected member of object_1 accessed successfully -->\",object_1._protect)\n",
    "print(\"Protected member of object_2 modified successfully -->\",object_2._modify)"
   ]
  },
  {
   "cell_type": "code",
   "execution_count": 90,
   "id": "6e0e268f",
   "metadata": {},
   "outputs": [
    {
     "data": {
      "text/plain": [
       "'Thirty Four'"
      ]
     },
     "execution_count": 90,
     "metadata": {},
     "output_type": "execute_result"
    }
   ],
   "source": [
    "class Base01:\n",
    "    def __init__(self):\n",
    "        self.myAge = 'Thirty Four'\n",
    "        self.__age = self.myAge    # assigning regular member attribute value with private member[Denoted by __ as prefix]\n",
    "class Derived01(Base01):\n",
    "    def __init__(self):\n",
    "        Base01.__init__(self) # Calling constructor of Base Class\n",
    "        print(\"<< Calling myAge attribute from Base01 Class >>\",self.myAge)\n",
    "        print(\"<< Calling Private Member of Base01 Class >>\",self.__age)\n",
    "        \n",
    "obj_1 = Base01()     ## creating object from BASE Class\n",
    "\n",
    "obj_1.myAge\n",
    "# obj_1.__age --> ## This is uncommented because it will throw an AttributeError.\n",
    "                  ## Private member attributes are not visible/accessible from outside it's Class(Here, Base01 Class)"
   ]
  },
  {
   "cell_type": "code",
   "execution_count": null,
   "id": "6d08beed",
   "metadata": {},
   "outputs": [],
   "source": []
  }
 ],
 "metadata": {
  "kernelspec": {
   "display_name": "Python 3 (ipykernel)",
   "language": "python",
   "name": "python3"
  },
  "language_info": {
   "codemirror_mode": {
    "name": "ipython",
    "version": 3
   },
   "file_extension": ".py",
   "mimetype": "text/x-python",
   "name": "python",
   "nbconvert_exporter": "python",
   "pygments_lexer": "ipython3",
   "version": "3.11.4"
  }
 },
 "nbformat": 4,
 "nbformat_minor": 5
}
