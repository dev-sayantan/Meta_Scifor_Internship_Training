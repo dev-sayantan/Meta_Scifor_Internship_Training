{
 "cells": [
  {
   "cell_type": "markdown",
   "id": "a2d03c1b-3b7f-4e29-aed5-fe7c3c93a61c",
   "metadata": {
    "id": "a2d03c1b-3b7f-4e29-aed5-fe7c3c93a61c"
   },
   "source": [
    "# Statistics Test 2.0"
   ]
  },
  {
   "cell_type": "markdown",
   "id": "eacdfe41-4c50-4a8d-8af9-25d78ccbab02",
   "metadata": {
    "id": "eacdfe41-4c50-4a8d-8af9-25d78ccbab02"
   },
   "source": [
    "Time - 1.30 Hr\n",
    "\n",
    "\n",
    "Total Marks = 60\n",
    "\n"
   ]
  },
  {
   "cell_type": "markdown",
   "id": "-h45Y-7UcYVW",
   "metadata": {
    "id": "-h45Y-7UcYVW"
   },
   "source": [
    "**MCQ**"
   ]
  },
  {
   "cell_type": "markdown",
   "id": "-0TTQIaXcLJF",
   "metadata": {
    "id": "-0TTQIaXcLJF"
   },
   "source": [
    "**Which of the following is a measure of central tendency?**\n",
    "\n",
    "    A) Variance\n",
    "    B) Standard Deviation\n",
    "    C) Mean\n",
    "    D) Range"
   ]
  },
  {
   "cell_type": "markdown",
   "id": "1b06ef8f-76a9-4261-8d65-48fff64cb39e",
   "metadata": {},
   "source": [
    "**ANSWER :- C) Mean**"
   ]
  },
  {
   "cell_type": "markdown",
   "id": "YEex8H5ocLLr",
   "metadata": {
    "id": "YEex8H5ocLLr"
   },
   "source": [
    "**In a dataset with values [2, 4, 4, 6, 8], what is the median?**\n",
    "\n",
    "    A) 4\n",
    "    B) 4.5\n",
    "    C) 6\n",
    "    D) 8"
   ]
  },
  {
   "cell_type": "markdown",
   "id": "f874806a-a95e-47aa-8fa9-267fb7d71c91",
   "metadata": {},
   "source": [
    "**ANSWER :- A) 4**"
   ]
  },
  {
   "cell_type": "markdown",
   "id": "NLR39gAncLNz",
   "metadata": {
    "id": "NLR39gAncLNz"
   },
   "source": [
    "**Inferential statistics are used to:**\n",
    "\n",
    "    A) Describe the data's central tendency\n",
    "    B) Summarize the data\n",
    "    C) Make predictions or inferences about a population based on a sample\n",
    "    D) Visualize the data"
   ]
  },
  {
   "cell_type": "markdown",
   "id": "e9a1abb3-643b-4e9a-8c09-50866e0f6831",
   "metadata": {},
   "source": [
    "**ANSWER :- C) Make predictions or inferences about a population based on a sample**"
   ]
  },
  {
   "cell_type": "markdown",
   "id": "gxSeoRancLP9",
   "metadata": {
    "id": "gxSeoRancLP9"
   },
   "source": [
    "**What does a confidence interval represent?**\n",
    "\n",
    "    A) The range within which the population mean is expected to fall with a certain probability\n",
    "    B) The exact value of the population mean\n",
    "    C) The variability within the sample\n",
    "    D) The number of samples required"
   ]
  },
  {
   "cell_type": "markdown",
   "id": "a3d130b0-5ab4-4ac2-b66b-94bbb5020c55",
   "metadata": {},
   "source": [
    "**ANSWER:- A) The range within which the population mean is expected to fall with a certain probability**"
   ]
  },
  {
   "cell_type": "markdown",
   "id": "8VcnEmX9cLSM",
   "metadata": {
    "id": "8VcnEmX9cLSM"
   },
   "source": [
    "**According to the Central Limit Theorem, as the sample size increases, the distribution of the sample mean:**\n",
    "\n",
    "    A) Becomes skewed\n",
    "    B) Approaches a normal distribution\n",
    "    C) Remains uniform\n",
    "    D) Becomes bimodal"
   ]
  },
  {
   "cell_type": "markdown",
   "id": "8a785419-7cbe-4e2a-a032-5f35050d37df",
   "metadata": {},
   "source": [
    "**ANSWER :- B)Approaches a normal distribution**"
   ]
  },
  {
   "cell_type": "markdown",
   "id": "mQAz26m_cLUq",
   "metadata": {
    "id": "mQAz26m_cLUq"
   },
   "source": [
    "**The Central Limit Theorem is important because:**\n",
    "\n",
    "    A) It helps in defining the exact population distribution\n",
    "    B) It allows for the use of normal distribution to make inferences about sample means\n",
    "    C) It eliminates the need for sampling\n",
    "    D) It ensures sample sizes are always large"
   ]
  },
  {
   "cell_type": "markdown",
   "id": "60c308fd-f15f-483e-b04e-a9ea565756d9",
   "metadata": {},
   "source": [
    "**ANSWER :- It allows for the use of normal distribution to make inferences about sample means**"
   ]
  },
  {
   "cell_type": "markdown",
   "id": "F1T_g8pgcLWv",
   "metadata": {
    "id": "F1T_g8pgcLWv"
   },
   "source": [
    "**ANOVA is used to test:**\n",
    "\n",
    "    A) The association between two categorical variables\n",
    "    B) The differences between means of three or more groups\n",
    "    C) The proportion of a sample\n",
    "    D) The correlation between two continuous variables"
   ]
  },
  {
   "cell_type": "markdown",
   "id": "b7d5a9a8-4cfc-45c5-836b-ef9cae6cb267",
   "metadata": {},
   "source": [
    "**ANSWER :- B)The differences between means of three or more groups**"
   ]
  },
  {
   "cell_type": "markdown",
   "id": "MXX8Exw3dBzd",
   "metadata": {
    "id": "MXX8Exw3dBzd"
   },
   "source": [
    "**A p-value less than 0.05 in an ANOVA test indicates:**\n",
    "\n",
    "    A) There is no significant difference between group means\n",
    "    B) The means of at least one group are significantly different from others\n",
    "    C) The variances within groups are equal\n",
    "    D) The sample size is too small"
   ]
  },
  {
   "cell_type": "markdown",
   "id": "a1f3a2b3-ac2d-42ac-901d-362dcd926f5f",
   "metadata": {},
   "source": [
    "**ANSWER :- B) The means of at least one group are significantly different from others**"
   ]
  },
  {
   "cell_type": "markdown",
   "id": "T5dE7-GIdB14",
   "metadata": {
    "id": "T5dE7-GIdB14"
   },
   "source": [
    "**The chi-square test of independence assesses:**\n",
    "\n",
    "    A) If two continuous variables are related\n",
    "    B) The goodness-of-fit of a model\n",
    "    C) The association between two categorical variables\n",
    "    D) The variance of a single variable"
   ]
  },
  {
   "cell_type": "markdown",
   "id": "0bd21953-6c41-42d2-993a-4c823f87b275",
   "metadata": {},
   "source": [
    "**ANSWER :- C) The association between two categorical variables**"
   ]
  },
  {
   "cell_type": "markdown",
   "id": "TbkJYhyNdIa0",
   "metadata": {
    "id": "TbkJYhyNdIa0"
   },
   "source": [
    "**The two-sample t-test assumes:**\n",
    "\n",
    "    A) Equal variances between the two groups\n",
    "    B) Unequal variances between the two groups\n",
    "    C) No assumption about variances\n",
    "    D) The samples are paired"
   ]
  },
  {
   "cell_type": "markdown",
   "id": "0bfcac0e-6574-41e2-ab37-bf14bd9bbbeb",
   "metadata": {},
   "source": [
    "**ANSWER :- D) The samples are paired**"
   ]
  },
  {
   "cell_type": "markdown",
   "id": "6b85eac4-9fa5-4a6e-8944-31cfdb85b1f7",
   "metadata": {
    "id": "6b85eac4-9fa5-4a6e-8944-31cfdb85b1f7"
   },
   "source": [
    "# Python Basic Exercise\n",
    "\n",
    "### Solve any three"
   ]
  },
  {
   "cell_type": "markdown",
   "id": "daf26a58-0326-40aa-bdb6-8d765abaa5e8",
   "metadata": {
    "id": "daf26a58-0326-40aa-bdb6-8d765abaa5e8"
   },
   "source": [
    "Que 1 -> You have a list a=[1,2,3,6,9,7,4,5,8], and you have to find the kth element from the list. This means I want to find the 2nd largest number from the list. Similarly, you have to create a function where I pass a number, say 4, and the function will return the 4th largest number from the list."
   ]
  },
  {
   "cell_type": "code",
   "execution_count": null,
   "id": "6f85b635-779f-4c1f-be25-fed8ad6ca5b0",
   "metadata": {
    "id": "6f85b635-779f-4c1f-be25-fed8ad6ca5b0"
   },
   "outputs": [],
   "source": [
    "Sol->"
   ]
  },
  {
   "cell_type": "markdown",
   "id": "bb4ffbe7-2bd2-47fe-be13-41ce39dde5a7",
   "metadata": {
    "id": "bb4ffbe7-2bd2-47fe-be13-41ce39dde5a7"
   },
   "source": [
    "Que 2-> you have a list [1,8,0,6,4,0,6,0,0,2,0], You need to shift all the zeros to the right , without using any inbuilt function."
   ]
  },
  {
   "cell_type": "code",
   "execution_count": 68,
   "id": "39017c11-1084-4c96-b229-83ba71c15b98",
   "metadata": {
    "id": "39017c11-1084-4c96-b229-83ba71c15b98"
   },
   "outputs": [
    {
     "name": "stdout",
     "output_type": "stream",
     "text": [
      "The list after shifting zeros to the right is: [1, 8, 6, 4, 6, 2, 0, 0, 0, 0, 0]\n"
     ]
    }
   ],
   "source": [
    "def shift_zeros_to_right(nums):\n",
    "    n = len(nums)\n",
    "    zero_index = 0\n",
    "\n",
    "    # Iterate through the list and move zeros to the right\n",
    "    for i in range(n):\n",
    "        if nums[i] != 0:\n",
    "            # Swap non-zero element with the first zero element\n",
    "            nums[i], nums[zero_index] = nums[zero_index], nums[i]\n",
    "            zero_index += 1\n",
    "\n",
    "    return nums\n",
    "\n",
    "# Example usage:\n",
    "original_list = [1, 8, 0, 6, 4, 0, 6, 0, 0, 2, 0]\n",
    "result = shift_zeros_to_right(original_list)\n",
    "print(f\"The list after shifting zeros to the right is: {result}\")"
   ]
  },
  {
   "cell_type": "markdown",
   "id": "8f6bb4bc-9d9f-4f99-ad34-489934da6fb8",
   "metadata": {
    "id": "8f6bb4bc-9d9f-4f99-ad34-489934da6fb8"
   },
   "source": [
    "Que 3->Reverse a string without using any inbuilt function like slicing."
   ]
  },
  {
   "cell_type": "code",
   "execution_count": 66,
   "id": "3cfc4b48-15e0-4fcf-8cb7-1c6171d407e6",
   "metadata": {
    "id": "3cfc4b48-15e0-4fcf-8cb7-1c6171d407e6"
   },
   "outputs": [
    {
     "name": "stdout",
     "output_type": "stream",
     "text": [
      "The reversed string is: olleh\n"
     ]
    }
   ],
   "source": [
    "def reverse_string(input_string):\n",
    "    reversed_string = \"\"\n",
    "    for i in range(len(input_string) - 1, -1, -1):\n",
    "        reversed_string += input_string[i]\n",
    "    return reversed_string\n",
    "\n",
    "# Example usage:\n",
    "original_string = \"hello\"\n",
    "reversed_result = reverse_string(original_string)\n",
    "print(f\"The reversed string is: {reversed_result}\")"
   ]
  },
  {
   "cell_type": "markdown",
   "id": "58b475ca-89a9-4074-adfa-1b31e6609aaf",
   "metadata": {
    "id": "58b475ca-89a9-4074-adfa-1b31e6609aaf"
   },
   "source": [
    "Que 4-> To find common prefix in array of strings\n",
    "\n",
    "array= ['Abce','Abcjhgj','Abcf']\n",
    "\n",
    "\n",
    "The common prefix among the strings 'Abce', 'Abcjhgj', and 'Abcf' is 'Abc'. So, the common prefix is 'Abc'."
   ]
  },
  {
   "cell_type": "code",
   "execution_count": null,
   "id": "80d7e6ea-574b-4135-aa87-a042e9956390",
   "metadata": {
    "id": "80d7e6ea-574b-4135-aa87-a042e9956390"
   },
   "outputs": [],
   "source": [
    "Sol->"
   ]
  },
  {
   "cell_type": "markdown",
   "id": "91637a40-f4ed-414d-9c71-c82374cb13a3",
   "metadata": {
    "id": "91637a40-f4ed-414d-9c71-c82374cb13a3"
   },
   "source": [
    "Que 5- Given the list l = [1,2,0,1,2,0,0], I want the output to be ans = [0,0,0,2,2,1,1] without using any inbuilt function"
   ]
  },
  {
   "cell_type": "code",
   "execution_count": null,
   "id": "ea7b0b77-9ff4-4f73-9a99-129c665fb961",
   "metadata": {
    "id": "ea7b0b77-9ff4-4f73-9a99-129c665fb961"
   },
   "outputs": [],
   "source": [
    "Sol->\n"
   ]
  },
  {
   "cell_type": "code",
   "execution_count": null,
   "id": "f36bc3d6-7bd0-4f8e-aad7-ac40484e911f",
   "metadata": {
    "id": "f36bc3d6-7bd0-4f8e-aad7-ac40484e911f"
   },
   "outputs": [],
   "source": []
  },
  {
   "cell_type": "markdown",
   "id": "e17c874f-ffe2-416f-af6c-2ba6e57a0bfd",
   "metadata": {
    "id": "e17c874f-ffe2-416f-af6c-2ba6e57a0bfd"
   },
   "source": [
    "# Statistics Theory Question\n"
   ]
  },
  {
   "cell_type": "markdown",
   "id": "0b748385-fe05-40f2-adc8-5b643f95b906",
   "metadata": {
    "id": "0b748385-fe05-40f2-adc8-5b643f95b906"
   },
   "source": [
    "Que 1- What is Central Limit Theoram ? Explain."
   ]
  },
  {
   "cell_type": "markdown",
   "id": "8fd691a3-370a-4a7b-872d-184d50062555",
   "metadata": {
    "id": "6e9ac27e-7076-4a13-89a6-d0ebe39d10f1"
   },
   "source": [
    "Ans= The Central Limit Theorem (CLT) is a fundamental concept in statistics that states that the sampling distribution of the sample mean will be approximately normally distributed, regardless of the shape of the original population distribution, as long as the sample size is sufficiently large.\n",
    "\n",
    "In other words, the Central Limit Theorem states that if you take repeated random samples from a population and calculate the mean of each sample, the distribution of those sample means will be approximately normally distributed, even if the original population is not normally distributed.\n",
    "\n",
    "The key implications of the Central Limit Theorem are:\n",
    "1. It allows us to make inferences about the population mean using the sample mean, even if the population distribution is unknown or non-normal.\n",
    "2. It provides a basis for using the normal distribution and related statistical tests in a wide range of practical applications, since many statistical methods rely on the assumption of normality.\n",
    "\n",
    "The Central Limit Theorem is widely used in statistical inference, hypothesis testing, and confidence interval estimation. It is a critical concept in understanding the behavior of sample means and the reliability of statistical analyses."
   ]
  },
  {
   "cell_type": "markdown",
   "id": "8466b61e-24b9-4567-bd63-04d8fb5360ad",
   "metadata": {
    "id": "8466b61e-24b9-4567-bd63-04d8fb5360ad"
   },
   "source": [
    "Que 2- What is CDF(Comulative density function). Explain with mathematics."
   ]
  },
  {
   "cell_type": "markdown",
   "id": "8ba2626d-602a-4073-9587-68cd275d6fe9",
   "metadata": {
    "id": "02b38da6-fd6a-4ecc-8275-aa85a320f78a"
   },
   "source": [
    "Ans= The Cumulative Distribution Function (CDF) is a fundamental concept in probability theory and statistics. It is a function that maps a value to its cumulative probability up to that value. The CDF is defined for both discrete and continuous random variables."
   ]
  },
  {
   "cell_type": "markdown",
   "id": "6ada9cfc-cb42-4e64-b74e-7befd45cbe4a",
   "metadata": {
    "id": "6ada9cfc-cb42-4e64-b74e-7befd45cbe4a"
   },
   "source": [
    "Que 3- What is Anova test. how we can calculate behind the scene ?"
   ]
  },
  {
   "cell_type": "markdown",
   "id": "6f4a0ad2-2deb-48b8-9a0b-79aa2f4957da",
   "metadata": {
    "id": "b2173ae3-80fc-4ba6-bbb9-3013db30a02f"
   },
   "source": [
    "Ans= The Analysis of Variance (ANOVA) test is a statistical method used to compare the means of three or more samples to determine if at least one of the sample means is significantly different from the others. ANOVA is used to test the null hypothesis that the means of multiple groups are equal, against the alternative hypothesis that at least one of the means is different.\n",
    "\n",
    "There are different types of ANOVA tests, including one-way ANOVA, two-way ANOVA, and N-way ANOVA, each of which is used in different experimental designs. However, the most commonly used type is one-way ANOVA, which is used when there is only one independent variable (factor) with three or more levels (groups).\n",
    "\n",
    "The basic idea behind ANOVA is to partition the total variation observed in the data into different sources: the variation between group means and the variation within groups. ANOVA then compares these sources of variation to determine if the differences between group means are larger than what would be expected by chance.\n",
    "\n",
    "The ANOVA test produces an F-statistic and a p-value. The F-statistic measures the ratio of the variation between group means to the variation within groups. The p-value indicates the probability of observing the data if the null hypothesis of equal group means is true. If the p-value is less than a chosen significance level (e.g., 0.05), the null hypothesis is rejected, and it can be concluded that at least one of the group means is significantly different from the others."
   ]
  },
  {
   "cell_type": "markdown",
   "id": "dffe2da1-3353-4865-85eb-fff2caea349a",
   "metadata": {
    "id": "dffe2da1-3353-4865-85eb-fff2caea349a"
   },
   "source": [
    "Que 4-  What is Chi-Square test. how we will calculate behind the scene."
   ]
  },
  {
   "cell_type": "markdown",
   "id": "a255036a-a6a4-45d5-9909-4bde02421c6e",
   "metadata": {
    "id": "00d08145-13da-4d6d-a580-fca78914b2d8"
   },
   "source": [
    "Ans=The Chi-Square test is a statistical test used to determine whether there is a significant association between categorical variables. It is a non-parametric test, meaning it makes no assumptions about the distribution of the data. The Chi-Square test is used to compare observed frequencies of categorical data with the frequencies that would be expected if the variables were independent.\r\n",
    "\r\n",
    "There are two main types of Chi-Square tests:\r\n",
    "1. Goodness of Fit Test: This test is used to determine whether the distribution of a single categorical variable differs from a hypothesized or expected distribution. It compares the observed frequencies of different categories with the expected frequencies.\r\n",
    "2. Test of Independence: This test is used to determine whether there is a significant association between two categorical variables. It examines whether the frequency distribution of one variable is independent of the frequency distribution of the other variable."
   ]
  },
  {
   "cell_type": "markdown",
   "id": "8fec219a-1fe3-41db-a2ba-8a0b5e0b4a43",
   "metadata": {
    "id": "8fec219a-1fe3-41db-a2ba-8a0b5e0b4a43"
   },
   "source": [
    "Que 5-  What is the difference between inferential and descriptive statistics."
   ]
  },
  {
   "cell_type": "markdown",
   "id": "c0357472-3b56-49e7-a0c4-de528a0a6da8",
   "metadata": {
    "id": "6717b5d9-704f-4f01-854a-d89d40cb8568"
   },
   "source": [
    "Descriptive statistics and inferential statistics are two branches of statistical analysis that serve different purposes.\n",
    "\n",
    "Descriptive statistics involves the organization, summarization, and presentation of data. It provides simple summaries about the sample and the measures. Descriptive statistics are used to describe the basic features of the data in a study. They provide simple summaries about the sample and the measures. Common measures used in descriptive statistics include measures of central tendency (mean, median, mode), measures of variability (range, variance, standard deviation), and measures of distribution (skewness, kurtosis).\n",
    "\n",
    "Inferential statistics, on the other hand, involves making inferences and predictions about a population based on a sample of data. It uses the data collected from a sample to make inferences or predictions about a population. Inferential statistics are used to test hypotheses and make generalizations about a population based on the results observed in a sample. Common techniques in inferential statistics include hypothesis testing, confidence intervals, and regression analysis."
   ]
  },
  {
   "cell_type": "markdown",
   "id": "d7a2df48-9875-4b6b-ba26-feee4e03b1d5",
   "metadata": {
    "id": "d7a2df48-9875-4b6b-ba26-feee4e03b1d5"
   },
   "source": [
    "Que 6- Explain any 2 distribution."
   ]
  },
  {
   "cell_type": "code",
   "execution_count": null,
   "id": "938bde99-9a25-4a93-b594-182b09b7db61",
   "metadata": {
    "id": "938bde99-9a25-4a93-b594-182b09b7db61"
   },
   "outputs": [],
   "source": [
    "Ans ="
   ]
  },
  {
   "cell_type": "markdown",
   "id": "5c2a1d3b-bea9-4de6-8018-a120e2d36528",
   "metadata": {
    "id": "5c2a1d3b-bea9-4de6-8018-a120e2d36528"
   },
   "source": [
    "# Statistics Mathematics  Question\n",
    "\n"
   ]
  },
  {
   "cell_type": "markdown",
   "id": "40749fa8-a06d-4d9c-8864-4bb8b24599a3",
   "metadata": {
    "id": "40749fa8-a06d-4d9c-8864-4bb8b24599a3"
   },
   "source": [
    "Que 1 - if I generate heights for 1000 people from a normal distribution, what would be the probability for a new person to have a height of 70 inches using (CDF) then z-score table? take height in inches.\n",
    "\n",
    "#### Mean height (in inches) of the population\n",
    "mean_height = 66\n",
    "\n",
    "#### Standard deviation of heights (in inches) of the population\n",
    "std_dev_height = 3\n",
    "\n",
    "\n",
    "##### Generate data using this code\n",
    "###### Generate heights for 1000 people from a normal distribution\n",
    "heights = np.random.normal(mean_height, std_dev_height, 1000)))"
   ]
  },
  {
   "cell_type": "code",
   "execution_count": 30,
   "id": "e0b6c3a7-4b11-403f-860d-0beab1408712",
   "metadata": {
    "id": "e0b6c3a7-4b11-403f-860d-0beab1408712"
   },
   "outputs": [],
   "source": [
    "import numpy as np\n",
    "mean_height = 66\n",
    "std_dev_height = 3\n",
    "heights = np.random.normal(loc=mean_height,scale=std_dev_height,size=1000)"
   ]
  },
  {
   "cell_type": "code",
   "execution_count": 40,
   "id": "02c423a1-cadd-4780-b2b1-606b36cbb1a9",
   "metadata": {
    "id": "02c423a1-cadd-4780-b2b1-606b36cbb1a9"
   },
   "outputs": [
    {
     "data": {
      "text/plain": [
       "(1000,)"
      ]
     },
     "execution_count": 40,
     "metadata": {},
     "output_type": "execute_result"
    }
   ],
   "source": [
    "heights.shape"
   ]
  },
  {
   "cell_type": "code",
   "execution_count": 42,
   "id": "fc8691b1-9217-45fa-9c79-c7ad3b60b150",
   "metadata": {
    "id": "fc8691b1-9217-45fa-9c79-c7ad3b60b150"
   },
   "outputs": [],
   "source": [
    "import scipy.stats as st"
   ]
  },
  {
   "cell_type": "code",
   "execution_count": 44,
   "id": "5dabad10-7ae0-4827-9d09-6b95ea27deea",
   "metadata": {
    "id": "5dabad10-7ae0-4827-9d09-6b95ea27deea"
   },
   "outputs": [],
   "source": [
    "new_height = 70\n",
    "probab = st.norm.cdf(x=70,loc=mean_height,scale=std_dev_height)"
   ]
  },
  {
   "cell_type": "code",
   "execution_count": 46,
   "id": "2ab7b5e6-e40f-450c-becf-eadedda71980",
   "metadata": {
    "id": "2ab7b5e6-e40f-450c-becf-eadedda71980"
   },
   "outputs": [
    {
     "data": {
      "text/plain": [
       "0.9087887802741321"
      ]
     },
     "execution_count": 46,
     "metadata": {},
     "output_type": "execute_result"
    }
   ],
   "source": [
    "probab"
   ]
  },
  {
   "cell_type": "code",
   "execution_count": 48,
   "id": "dc2a638b-857a-48bb-8fd0-11f840f6484b",
   "metadata": {},
   "outputs": [],
   "source": [
    "z_score = (new_height - mean_height)/std_dev_height"
   ]
  },
  {
   "cell_type": "code",
   "execution_count": 50,
   "id": "9e1d6434-7ace-4e8f-8c94-c2a0b004a33d",
   "metadata": {},
   "outputs": [
    {
     "data": {
      "text/plain": [
       "1.3333333333333333"
      ]
     },
     "execution_count": 50,
     "metadata": {},
     "output_type": "execute_result"
    }
   ],
   "source": [
    "z_score"
   ]
  },
  {
   "cell_type": "markdown",
   "id": "975334bf-b79e-4f62-9961-f96697fd777c",
   "metadata": {},
   "source": [
    "#### By observing z-score table --> probability for a new person to have a height of 70 inches is **0.9082**"
   ]
  },
  {
   "cell_type": "markdown",
   "id": "99a22f4f-7737-4ef9-9ad0-fb7bd8e0ba46",
   "metadata": {
    "id": "99a22f4f-7737-4ef9-9ad0-fb7bd8e0ba46"
   },
   "source": [
    "Que 2-  Suppose a fitness center manager anticipates the attendance for a particular yoga class throughout the week. Based on historical data and other factors, they estimate the expected attendance in numbers:\n",
    "\n",
    "### Expected Attendance:\n",
    "\n",
    "Monday: 40\n",
    "\n",
    "Tuesday: 45\n",
    "\n",
    "Wednesday: 38\n",
    "\n",
    "Thursday: 50\n",
    "\n",
    "Friday: 55\n",
    "\n",
    "Saturday: 60\n",
    "\n",
    "Sunday: 65\n",
    "\n",
    "However, after the week concludes, the actual attendance is recorded:\n",
    "\n",
    "\n",
    "\n",
    "### Observed (Actual) Attendance:\n",
    "\n",
    "\n",
    "\n",
    "Monday: 38\n",
    "\n",
    "Tuesday: 43\n",
    "\n",
    "Wednesday: 40\n",
    "\n",
    "Thursday: 48\n",
    "\n",
    "Friday: 52\n",
    "\n",
    "Saturday: 58\n",
    "\n",
    "Sunday: 62\n",
    "\n",
    "Ho: There is no significant difference between the expected and observed attendance for the yoga class throughout the week.\n",
    "\n",
    "Ha: There is a significant difference between the expected and observed attendance for the yoga class throughout the week.\n",
    "\n",
    "#### Use chi-square test *Statistical Tools*"
   ]
  },
  {
   "cell_type": "code",
   "execution_count": 53,
   "id": "06f2df44-24f4-4314-900d-d03f02823ceb",
   "metadata": {
    "id": "06f2df44-24f4-4314-900d-d03f02823ceb"
   },
   "outputs": [
    {
     "name": "stdout",
     "output_type": "stream",
     "text": [
      "Chi-Square Test Statistics Score --> 0.7429166155481945\n"
     ]
    }
   ],
   "source": [
    "expected_att = [40,45,38,50,55,60,65]\n",
    "actual_att = [38,43,40,48,52,58,62]\n",
    "chi_sq = [np.square(38-40)/40,\n",
    "          np.square(43-45)/45,\n",
    "          np.square(40-38)/38,\n",
    "          np.square(48-50)/50,\n",
    "          np.square(52-55)/55,\n",
    "          np.square(58-60)/60,\n",
    "          np.square(62-65)/65]\n",
    "print(\"Chi-Square Test Statistics Score -->\",np.sum(chi_sq))"
   ]
  },
  {
   "cell_type": "markdown",
   "id": "ba8f1d91-b2a0-4371-8dcc-966c69019889",
   "metadata": {
    "id": "3db52de2-8492-49fa-a11f-9289d5318284"
   },
   "source": [
    "#### Here, degree of freedom is N-1 or (total number of occurance - 1) which is 6\n",
    "#### And if the Alpha level or the significance level is 0.1(10%) then, by ovserving the chi-square distribution table, it is noted that\n",
    "#### the Critical score is greater than our test score, so the null hypothesis will be taken."
   ]
  },
  {
   "cell_type": "markdown",
   "id": "a651ae03-9b6a-4af4-a3e9-97b90bb8913e",
   "metadata": {
    "id": "a651ae03-9b6a-4af4-a3e9-97b90bb8913e"
   },
   "source": [
    "Que3 -> Calculate anova test\n",
    "\n",
    "\n",
    "\n",
    "\n",
    "\n",
    "    | Student_ID | Semester | Total_Marks |\n",
    "    |------------|----------|-------------|\n",
    "    | 1          | Fall     | 85          |\n",
    "    | 2          | Fall     | 78          |\n",
    "    | 3          | Fall     | 92          |\n",
    "    | 4          | Spring   | 88          |\n",
    "    | 5          | Spring   | 75          |\n",
    "    | 6          | Spring   | 82          |\n",
    "    | 7          | Summer   | 90          |\n",
    "    | 8          | Summer   | 86          |\n",
    "    | 9          | Summer   | 79          |    \n",
    "\n",
    "\n",
    "Null Hypothesis (Ho): The average marks of students in each semester are approximately equal.\n",
    "\n",
    "Alternative Hypothesis (Ha): The average marks of students in at least one semester are different."
   ]
  },
  {
   "cell_type": "code",
   "execution_count": null,
   "id": "f4680b16-587c-4bec-809e-bfe473b7538a",
   "metadata": {
    "id": "f4680b16-587c-4bec-809e-bfe473b7538a"
   },
   "outputs": [],
   "source": []
  },
  {
   "cell_type": "code",
   "execution_count": null,
   "id": "18d90b6a-a4e8-4b2c-97a2-9829efb6703b",
   "metadata": {
    "id": "18d90b6a-a4e8-4b2c-97a2-9829efb6703b"
   },
   "outputs": [],
   "source": [
    "Sol="
   ]
  },
  {
   "cell_type": "code",
   "execution_count": null,
   "id": "575e378d-97df-466d-bebb-c0fe35db0935",
   "metadata": {
    "id": "575e378d-97df-466d-bebb-c0fe35db0935"
   },
   "outputs": [],
   "source": []
  },
  {
   "cell_type": "code",
   "execution_count": null,
   "id": "cab935e4-8712-49b3-8201-e9f7b446c5a0",
   "metadata": {
    "id": "cab935e4-8712-49b3-8201-e9f7b446c5a0"
   },
   "outputs": [],
   "source": []
  },
  {
   "cell_type": "code",
   "execution_count": null,
   "id": "d53135d4-8642-469e-adc7-cc8665a07a7e",
   "metadata": {
    "id": "d53135d4-8642-469e-adc7-cc8665a07a7e"
   },
   "outputs": [],
   "source": [
    "#Solution only submit in Github"
   ]
  },
  {
   "cell_type": "code",
   "execution_count": null,
   "id": "81d8187f-1a71-40ea-a3ed-6c30f21ad72b",
   "metadata": {
    "id": "81d8187f-1a71-40ea-a3ed-6c30f21ad72b"
   },
   "outputs": [],
   "source": []
  }
 ],
 "metadata": {
  "colab": {
   "provenance": []
  },
  "kernelspec": {
   "display_name": "Python 3 (ipykernel)",
   "language": "python",
   "name": "python3"
  },
  "language_info": {
   "codemirror_mode": {
    "name": "ipython",
    "version": 3
   },
   "file_extension": ".py",
   "mimetype": "text/x-python",
   "name": "python",
   "nbconvert_exporter": "python",
   "pygments_lexer": "ipython3",
   "version": "3.12.4"
  }
 },
 "nbformat": 4,
 "nbformat_minor": 5
}
