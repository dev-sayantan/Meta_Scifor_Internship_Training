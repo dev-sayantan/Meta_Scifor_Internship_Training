{
 "cells": [
  {
   "cell_type": "markdown",
   "id": "5f1b921e",
   "metadata": {},
   "source": [
    "### Import Numpy"
   ]
  },
  {
   "cell_type": "code",
   "execution_count": 2,
   "id": "ff625187",
   "metadata": {},
   "outputs": [],
   "source": [
    "import numpy as np"
   ]
  },
  {
   "cell_type": "markdown",
   "id": "e59bf758",
   "metadata": {},
   "source": [
    "### Checking all functions within NumPy"
   ]
  },
  {
   "cell_type": "code",
   "execution_count": 3,
   "id": "623f4326",
   "metadata": {},
   "outputs": [
    {
     "name": "stdout",
     "output_type": "stream",
     "text": [
      "['ALLOW_THREADS', 'AxisError', 'BUFSIZE', 'CLIP', 'ComplexWarning', 'DataSource', 'ERR_CALL', 'ERR_DEFAULT', 'ERR_IGNORE', 'ERR_LOG', 'ERR_PRINT', 'ERR_RAISE', 'ERR_WARN', 'FLOATING_POINT_SUPPORT', 'FPE_DIVIDEBYZERO', 'FPE_INVALID', 'FPE_OVERFLOW', 'FPE_UNDERFLOW', 'False_', 'Inf', 'Infinity', 'MAXDIMS', 'MAY_SHARE_BOUNDS', 'MAY_SHARE_EXACT', 'ModuleDeprecationWarning', 'NAN', 'NINF', 'NZERO', 'NaN', 'PINF', 'PZERO', 'RAISE', 'RankWarning', 'SHIFT_DIVIDEBYZERO', 'SHIFT_INVALID', 'SHIFT_OVERFLOW', 'SHIFT_UNDERFLOW', 'ScalarType', 'Tester', 'TooHardError', 'True_', 'UFUNC_BUFSIZE_DEFAULT', 'UFUNC_PYVALS_NAME', 'VisibleDeprecationWarning', 'WRAP', '_CopyMode', '_NoValue', '_UFUNC_API', '__NUMPY_SETUP__', '__all__', '__builtins__', '__cached__', '__config__', '__deprecated_attrs__', '__dir__', '__doc__', '__expired_functions__', '__file__', '__former_attrs__', '__future_scalars__', '__getattr__', '__git_version__', '__loader__', '__mkl_version__', '__name__', '__package__', '__path__', '__spec__', '__version__', '_add_newdoc_ufunc', '_builtins', '_distributor_init', '_financial_names', '_get_promotion_state', '_globals', '_int_extended_msg', '_mat', '_no_nep50_warning', '_pyinstaller_hooks_dir', '_pytesttester', '_set_promotion_state', '_specific_msg', '_version', 'abs', 'absolute', 'add', 'add_docstring', 'add_newdoc', 'add_newdoc_ufunc', 'all', 'allclose', 'alltrue', 'amax', 'amin', 'angle', 'any', 'append', 'apply_along_axis', 'apply_over_axes', 'arange', 'arccos', 'arccosh', 'arcsin', 'arcsinh', 'arctan', 'arctan2', 'arctanh', 'argmax', 'argmin', 'argpartition', 'argsort', 'argwhere', 'around', 'array', 'array2string', 'array_equal', 'array_equiv', 'array_repr', 'array_split', 'array_str', 'asanyarray', 'asarray', 'asarray_chkfinite', 'ascontiguousarray', 'asfarray', 'asfortranarray', 'asmatrix', 'atleast_1d', 'atleast_2d', 'atleast_3d', 'average', 'bartlett', 'base_repr', 'binary_repr', 'bincount', 'bitwise_and', 'bitwise_not', 'bitwise_or', 'bitwise_xor', 'blackman', 'block', 'bmat', 'bool_', 'broadcast', 'broadcast_arrays', 'broadcast_shapes', 'broadcast_to', 'busday_count', 'busday_offset', 'busdaycalendar', 'byte', 'byte_bounds', 'bytes_', 'c_', 'can_cast', 'cast', 'cbrt', 'cdouble', 'ceil', 'cfloat', 'char', 'character', 'chararray', 'choose', 'clip', 'clongdouble', 'clongfloat', 'column_stack', 'common_type', 'compare_chararrays', 'compat', 'complex128', 'complex64', 'complex_', 'complexfloating', 'compress', 'concatenate', 'conj', 'conjugate', 'convolve', 'copy', 'copysign', 'copyto', 'corrcoef', 'correlate', 'cos', 'cosh', 'count_nonzero', 'cov', 'cross', 'csingle', 'ctypeslib', 'cumprod', 'cumproduct', 'cumsum', 'datetime64', 'datetime_as_string', 'datetime_data', 'deg2rad', 'degrees', 'delete', 'deprecate', 'deprecate_with_doc', 'diag', 'diag_indices', 'diag_indices_from', 'diagflat', 'diagonal', 'diff', 'digitize', 'disp', 'divide', 'divmod', 'dot', 'double', 'dsplit', 'dstack', 'dtype', 'e', 'ediff1d', 'einsum', 'einsum_path', 'emath', 'empty', 'empty_like', 'equal', 'errstate', 'euler_gamma', 'exp', 'exp2', 'expand_dims', 'expm1', 'extract', 'eye', 'fabs', 'fastCopyAndTranspose', 'fft', 'fill_diagonal', 'find_common_type', 'finfo', 'fix', 'flatiter', 'flatnonzero', 'flexible', 'flip', 'fliplr', 'flipud', 'float16', 'float32', 'float64', 'float_', 'float_power', 'floating', 'floor', 'floor_divide', 'fmax', 'fmin', 'fmod', 'format_float_positional', 'format_float_scientific', 'format_parser', 'frexp', 'from_dlpack', 'frombuffer', 'fromfile', 'fromfunction', 'fromiter', 'frompyfunc', 'fromregex', 'fromstring', 'full', 'full_like', 'gcd', 'generic', 'genfromtxt', 'geomspace', 'get_array_wrap', 'get_include', 'get_printoptions', 'getbufsize', 'geterr', 'geterrcall', 'geterrobj', 'gradient', 'greater', 'greater_equal', 'half', 'hamming', 'hanning', 'heaviside', 'histogram', 'histogram2d', 'histogram_bin_edges', 'histogramdd', 'hsplit', 'hstack', 'hypot', 'i0', 'identity', 'iinfo', 'imag', 'in1d', 'index_exp', 'indices', 'inexact', 'inf', 'info', 'infty', 'inner', 'insert', 'int16', 'int32', 'int64', 'int8', 'int_', 'intc', 'integer', 'interp', 'intersect1d', 'intp', 'invert', 'is_busday', 'isclose', 'iscomplex', 'iscomplexobj', 'isfinite', 'isfortran', 'isin', 'isinf', 'isnan', 'isnat', 'isneginf', 'isposinf', 'isreal', 'isrealobj', 'isscalar', 'issctype', 'issubclass_', 'issubdtype', 'issubsctype', 'iterable', 'ix_', 'kaiser', 'kron', 'lcm', 'ldexp', 'left_shift', 'less', 'less_equal', 'lexsort', 'lib', 'linalg', 'linspace', 'little_endian', 'load', 'loadtxt', 'log', 'log10', 'log1p', 'log2', 'logaddexp', 'logaddexp2', 'logical_and', 'logical_not', 'logical_or', 'logical_xor', 'logspace', 'longcomplex', 'longdouble', 'longfloat', 'longlong', 'lookfor', 'ma', 'mask_indices', 'mat', 'math', 'matmul', 'matrix', 'max', 'maximum', 'maximum_sctype', 'may_share_memory', 'mean', 'median', 'memmap', 'meshgrid', 'mgrid', 'min', 'min_scalar_type', 'minimum', 'mintypecode', 'mkl', 'mod', 'modf', 'moveaxis', 'msort', 'multiply', 'nan', 'nan_to_num', 'nanargmax', 'nanargmin', 'nancumprod', 'nancumsum', 'nanmax', 'nanmean', 'nanmedian', 'nanmin', 'nanpercentile', 'nanprod', 'nanquantile', 'nanstd', 'nansum', 'nanvar', 'nbytes', 'ndarray', 'ndenumerate', 'ndim', 'ndindex', 'nditer', 'negative', 'nested_iters', 'newaxis', 'nextafter', 'nonzero', 'not_equal', 'numarray', 'number', 'obj2sctype', 'object_', 'ogrid', 'oldnumeric', 'ones', 'ones_like', 'outer', 'packbits', 'pad', 'partition', 'percentile', 'pi', 'piecewise', 'place', 'poly', 'poly1d', 'polyadd', 'polyder', 'polydiv', 'polyfit', 'polyint', 'polymul', 'polynomial', 'polysub', 'polyval', 'positive', 'power', 'printoptions', 'prod', 'product', 'promote_types', 'ptp', 'put', 'put_along_axis', 'putmask', 'quantile', 'r_', 'rad2deg', 'radians', 'random', 'ravel', 'ravel_multi_index', 'real', 'real_if_close', 'rec', 'recarray', 'recfromcsv', 'recfromtxt', 'reciprocal', 'record', 'remainder', 'repeat', 'require', 'reshape', 'resize', 'result_type', 'right_shift', 'rint', 'roll', 'rollaxis', 'roots', 'rot90', 'round', 'round_', 'row_stack', 's_', 'safe_eval', 'save', 'savetxt', 'savez', 'savez_compressed', 'sctype2char', 'sctypeDict', 'sctypes', 'searchsorted', 'select', 'set_numeric_ops', 'set_printoptions', 'set_string_function', 'setbufsize', 'setdiff1d', 'seterr', 'seterrcall', 'seterrobj', 'setxor1d', 'shape', 'shares_memory', 'short', 'show_config', 'show_runtime', 'sign', 'signbit', 'signedinteger', 'sin', 'sinc', 'single', 'singlecomplex', 'sinh', 'size', 'sometrue', 'sort', 'sort_complex', 'source', 'spacing', 'split', 'sqrt', 'square', 'squeeze', 'stack', 'std', 'str_', 'string_', 'subtract', 'sum', 'swapaxes', 'take', 'take_along_axis', 'tan', 'tanh', 'tensordot', 'test', 'testing', 'tile', 'timedelta64', 'trace', 'tracemalloc_domain', 'transpose', 'trapz', 'tri', 'tril', 'tril_indices', 'tril_indices_from', 'trim_zeros', 'triu', 'triu_indices', 'triu_indices_from', 'true_divide', 'trunc', 'typecodes', 'typename', 'ubyte', 'ufunc', 'uint', 'uint16', 'uint32', 'uint64', 'uint8', 'uintc', 'uintp', 'ulonglong', 'unicode_', 'union1d', 'unique', 'unpackbits', 'unravel_index', 'unsignedinteger', 'unwrap', 'use_hugepage', 'ushort', 'vander', 'var', 'vdot', 'vectorize', 'version', 'void', 'vsplit', 'vstack', 'where', 'who', 'zeros', 'zeros_like']\n"
     ]
    }
   ],
   "source": [
    "print(dir(np))"
   ]
  },
  {
   "cell_type": "markdown",
   "id": "77cc4117",
   "metadata": {},
   "source": [
    "### Applying NumPy Functions"
   ]
  },
  {
   "cell_type": "code",
   "execution_count": 5,
   "id": "7441a087",
   "metadata": {},
   "outputs": [
    {
     "data": {
      "text/plain": [
       "3.1622776601683795"
      ]
     },
     "execution_count": 5,
     "metadata": {},
     "output_type": "execute_result"
    }
   ],
   "source": [
    "np.sqrt(10)"
   ]
  },
  {
   "cell_type": "code",
   "execution_count": 6,
   "id": "f2c73a88",
   "metadata": {},
   "outputs": [
    {
     "name": "stdout",
     "output_type": "stream",
     "text": [
      "Minimnum Value:  23\n"
     ]
    }
   ],
   "source": [
    "print(\"Minimnum Value: \",np.amin([23,89,90,100,99]))"
   ]
  },
  {
   "cell_type": "code",
   "execution_count": 7,
   "id": "f02a93a1",
   "metadata": {},
   "outputs": [
    {
     "name": "stdout",
     "output_type": "stream",
     "text": [
      "Maximum Value:  100\n"
     ]
    }
   ],
   "source": [
    "print(\"Maximum Value: \",np.amax([23,89,90,100,99]))"
   ]
  },
  {
   "cell_type": "code",
   "execution_count": 8,
   "id": "ac55f659",
   "metadata": {},
   "outputs": [
    {
     "data": {
      "text/plain": [
       "90.0"
      ]
     },
     "execution_count": 8,
     "metadata": {},
     "output_type": "execute_result"
    }
   ],
   "source": [
    "np.ceil(89.78)"
   ]
  },
  {
   "cell_type": "code",
   "execution_count": 15,
   "id": "f35b73f2",
   "metadata": {},
   "outputs": [
    {
     "name": "stdout",
     "output_type": "stream",
     "text": [
      "After calculating square-root, rounding off to next value:  13.0\n"
     ]
    }
   ],
   "source": [
    "print(\"After calculating square-root, rounding off to next value: \",np.ceil(np.sqrt(144.52)))"
   ]
  },
  {
   "cell_type": "code",
   "execution_count": 18,
   "id": "ee6c8b97",
   "metadata": {},
   "outputs": [
    {
     "name": "stdout",
     "output_type": "stream",
     "text": [
      "After calculating square-root, rounding off to next value of each, and output the total:  40.0\n"
     ]
    }
   ],
   "source": [
    "print(\"After calculating square-root, rounding off to next value of each, and output the total: \",np.sum(np.ceil(np.sqrt([144,169,199]))))"
   ]
  },
  {
   "cell_type": "markdown",
   "id": "6b53da97",
   "metadata": {},
   "source": [
    "##### List is used to collect items that usually consist of elements of multiple data types. An array is also a vital component that collects several items of the same data type. List cannot manage arithmetic operations. Array can manage arithmetic operations."
   ]
  },
  {
   "cell_type": "code",
   "execution_count": 20,
   "id": "c527b1fd",
   "metadata": {},
   "outputs": [
    {
     "data": {
      "text/plain": [
       "builtin_function_or_method"
      ]
     },
     "execution_count": 20,
     "metadata": {},
     "output_type": "execute_result"
    }
   ],
   "source": [
    "type(np.array)"
   ]
  },
  {
   "cell_type": "code",
   "execution_count": 19,
   "id": "aedaa8da",
   "metadata": {},
   "outputs": [
    {
     "data": {
      "text/plain": [
       "array([78, 90, 12, 45])"
      ]
     },
     "execution_count": 19,
     "metadata": {},
     "output_type": "execute_result"
    }
   ],
   "source": [
    "np.array([78,90,12,45])"
   ]
  },
  {
   "cell_type": "code",
   "execution_count": 21,
   "id": "e917b2c4",
   "metadata": {},
   "outputs": [
    {
     "name": "stdout",
     "output_type": "stream",
     "text": [
      "[78 90 12 45]\n"
     ]
    }
   ],
   "source": [
    "print(np.array([78,90,12,45]))"
   ]
  },
  {
   "cell_type": "code",
   "execution_count": 22,
   "id": "a99d8f4d",
   "metadata": {},
   "outputs": [
    {
     "data": {
      "text/plain": [
       "numpy.ndarray"
      ]
     },
     "execution_count": 22,
     "metadata": {},
     "output_type": "execute_result"
    }
   ],
   "source": [
    "type(np.array([])) # one-dimentional array"
   ]
  },
  {
   "cell_type": "code",
   "execution_count": 23,
   "id": "e49824a7",
   "metadata": {},
   "outputs": [
    {
     "data": {
      "text/plain": [
       "numpy.ndarray"
      ]
     },
     "execution_count": 23,
     "metadata": {},
     "output_type": "execute_result"
    }
   ],
   "source": [
    "type(np.array([[]]))"
   ]
  },
  {
   "cell_type": "code",
   "execution_count": 24,
   "id": "f6ab6ab4",
   "metadata": {},
   "outputs": [
    {
     "data": {
      "text/plain": [
       "dtype('float64')"
      ]
     },
     "execution_count": 24,
     "metadata": {},
     "output_type": "execute_result"
    }
   ],
   "source": [
    "np.array([]).dtype # data-type of elements inside the ndarray or n-dimentional array --> default is 'float64'"
   ]
  },
  {
   "cell_type": "code",
   "execution_count": 25,
   "id": "0e30db73",
   "metadata": {},
   "outputs": [
    {
     "data": {
      "text/plain": [
       "array([], dtype=int32)"
      ]
     },
     "execution_count": 25,
     "metadata": {},
     "output_type": "execute_result"
    }
   ],
   "source": [
    "# Conversion of data-type of array elements\n",
    "np.array([],dtype=int)"
   ]
  },
  {
   "cell_type": "code",
   "execution_count": 29,
   "id": "cae32ca8",
   "metadata": {},
   "outputs": [
    {
     "name": "stdout",
     "output_type": "stream",
     "text": [
      "Copied as list to an array -->  [89 45 90 123 67.9 False {'Name': 'Sayantan', 'Gender': 'Male', 'Age': 34}]\n",
      "Copied as array -->  [89 45 90 123 67.9 False {'Name': 'Sayantan', 'Gender': 'Male', 'Age': 34}]\n"
     ]
    }
   ],
   "source": [
    "# copy a list to array\n",
    "lst = [89,45,90,123,67.9,False,{'Name':\"Sayantan\", 'Gender':'Male', 'Age': 34}]\n",
    "arr = np.array(lst)\n",
    "print(\"Copied as list to an array --> \",arr)\n",
    "\n",
    "# copy an array to another array --> as it is originally\n",
    "array = np.asarray(arr)\n",
    "print(\"Copied as array --> \",array)"
   ]
  },
  {
   "cell_type": "markdown",
   "id": "d1f93880",
   "metadata": {},
   "source": [
    "### ndarray as Matrix"
   ]
  },
  {
   "cell_type": "code",
   "execution_count": 30,
   "id": "d3b8491a",
   "metadata": {},
   "outputs": [
    {
     "name": "stdout",
     "output_type": "stream",
     "text": [
      "Type/Class of this Object :  <class 'numpy.ndarray'>\n",
      "Dimension of this Matrix :  2\n",
      "Size of the Matrix :  9\n",
      "Shape of the Matrix :  (3, 3)\n",
      "DataType of the Matrix ;  int32\n"
     ]
    }
   ],
   "source": [
    "my_matrix = [[12,23,34],[45,56,67],[78,89,91]]\n",
    "matrix = np.array(my_matrix)\n",
    "print(\"Type/Class of this Object : \",type(matrix))\n",
    "print(\"Dimension of this Matrix : \",matrix.ndim) # ndim gives dimension, 2 for a matrix and 1 for vector(One Dimension)\n",
    "print(\"Size of the Matrix : \",matrix.size) # size shows total number elements present in matrix\n",
    "print(\"Shape of the Matrix : \",matrix.shape) # showing number of rows/columns\n",
    "print(\"DataType of the Matrix ; \",matrix.dtype) # shows data-type of matrix"
   ]
  },
  {
   "cell_type": "code",
   "execution_count": 33,
   "id": "565d5110",
   "metadata": {},
   "outputs": [
    {
     "name": "stdout",
     "output_type": "stream",
     "text": [
      "[0 1 2 3 4 5 6 7 8 9]\n"
     ]
    }
   ],
   "source": [
    "a = np.arange(10) # arange is silimilar to list range method\n",
    "print(a)"
   ]
  },
  {
   "cell_type": "code",
   "execution_count": 38,
   "id": "d9ba9270",
   "metadata": {},
   "outputs": [
    {
     "name": "stdout",
     "output_type": "stream",
     "text": [
      "[10.5 12.5 14.5 16.5 18.5]\n"
     ]
    }
   ],
   "source": [
    "b = np.arange(10.5,20.4,2) # arange method takes 3 arguments --> start/stop/step\n",
    "print(b)"
   ]
  },
  {
   "cell_type": "code",
   "execution_count": 39,
   "id": "a20bab0c",
   "metadata": {},
   "outputs": [
    {
     "name": "stdout",
     "output_type": "stream",
     "text": [
      "Every 5th number from 100 in reverse order \n",
      " [100  95  90  85  80  75  70  65  60  55  50  45  40  35  30  25  20  15\n",
      "  10   5   0]\n"
     ]
    }
   ],
   "source": [
    "print(\"Every 5th number from 100 in reverse order \\n\",np.arange(100,-1,-5))"
   ]
  },
  {
   "cell_type": "code",
   "execution_count": 46,
   "id": "211d1366",
   "metadata": {},
   "outputs": [
    {
     "name": "stdout",
     "output_type": "stream",
     "text": [
      "Linearly Spaced 5 Numbers \n",
      " ------------------------------\n",
      "[10.  17.5 25.  32.5 40. ]\n"
     ]
    }
   ],
   "source": [
    "print(\"Linearly Spaced 5 Numbers \\n\",'--'*15)\n",
    "print(np.linspace(10,40,5))"
   ]
  },
  {
   "cell_type": "code",
   "execution_count": 47,
   "id": "16e618c2",
   "metadata": {},
   "outputs": [
    {
     "data": {
      "text/plain": [
       "(array([2.        , 2.33333333, 2.66666667, 3.        ]), 0.3333333333333333)"
      ]
     },
     "execution_count": 47,
     "metadata": {},
     "output_type": "execute_result"
    }
   ],
   "source": [
    "#Include end points and check space between the points\n",
    "#By default endpoint=True\n",
    "#Bydefaul retstep=False\n",
    "\n",
    "# it will provide 4 numbers, \n",
    "# include the ending element, \n",
    "# and those will be equally sample numbers having steps in between\n",
    "\n",
    "np.linspace(2.0,3.0,num=4,endpoint=True,retstep=True)"
   ]
  },
  {
   "cell_type": "markdown",
   "id": "70496ff0",
   "metadata": {},
   "source": [
    "### Matrix creation"
   ]
  },
  {
   "cell_type": "code",
   "execution_count": 57,
   "id": "6536f3ea",
   "metadata": {},
   "outputs": [
    {
     "name": "stdout",
     "output_type": "stream",
     "text": [
      "[[0. 0. 0. 0. 0. 0. 0. 0. 0. 0.]\n",
      " [0. 0. 0. 0. 0. 0. 0. 0. 0. 0.]\n",
      " [0. 0. 0. 0. 0. 0. 0. 0. 0. 0.]\n",
      " [0. 0. 0. 0. 0. 0. 0. 0. 0. 0.]\n",
      " [0. 0. 0. 0. 0. 0. 0. 0. 0. 0.]\n",
      " [0. 0. 0. 0. 0. 0. 0. 0. 0. 0.]\n",
      " [0. 0. 0. 0. 0. 0. 0. 0. 0. 0.]\n",
      " [0. 0. 0. 0. 0. 0. 0. 0. 0. 0.]\n",
      " [0. 0. 0. 0. 0. 0. 0. 0. 0. 0.]\n",
      " [0. 0. 0. 0. 0. 0. 0. 0. 0. 0.]]\n"
     ]
    }
   ],
   "source": [
    "print(np.zeros([10,10])) #using vector of zeroes"
   ]
  },
  {
   "cell_type": "code",
   "execution_count": 58,
   "id": "6d221af0",
   "metadata": {},
   "outputs": [
    {
     "name": "stdout",
     "output_type": "stream",
     "text": [
      "[[1. 1. 1. 1. 1. 1. 1. 1. 1. 1.]\n",
      " [1. 1. 1. 1. 1. 1. 1. 1. 1. 1.]\n",
      " [1. 1. 1. 1. 1. 1. 1. 1. 1. 1.]\n",
      " [1. 1. 1. 1. 1. 1. 1. 1. 1. 1.]\n",
      " [1. 1. 1. 1. 1. 1. 1. 1. 1. 1.]\n",
      " [1. 1. 1. 1. 1. 1. 1. 1. 1. 1.]\n",
      " [1. 1. 1. 1. 1. 1. 1. 1. 1. 1.]\n",
      " [1. 1. 1. 1. 1. 1. 1. 1. 1. 1.]\n",
      " [1. 1. 1. 1. 1. 1. 1. 1. 1. 1.]\n",
      " [1. 1. 1. 1. 1. 1. 1. 1. 1. 1.]]\n"
     ]
    }
   ],
   "source": [
    "# using Vector of ones\n",
    "print(np.ones([10,10]))"
   ]
  },
  {
   "cell_type": "code",
   "execution_count": 60,
   "id": "12e2e6ba",
   "metadata": {},
   "outputs": [
    {
     "name": "stdout",
     "output_type": "stream",
     "text": [
      "[[10. 10. 10. 10. 10. 10. 10. 10. 10. 10.]\n",
      " [10. 10. 10. 10. 10. 10. 10. 10. 10. 10.]\n",
      " [10. 10. 10. 10. 10. 10. 10. 10. 10. 10.]\n",
      " [10. 10. 10. 10. 10. 10. 10. 10. 10. 10.]\n",
      " [10. 10. 10. 10. 10. 10. 10. 10. 10. 10.]\n",
      " [10. 10. 10. 10. 10. 10. 10. 10. 10. 10.]\n",
      " [10. 10. 10. 10. 10. 10. 10. 10. 10. 10.]\n",
      " [10. 10. 10. 10. 10. 10. 10. 10. 10. 10.]\n",
      " [10. 10. 10. 10. 10. 10. 10. 10. 10. 10.]\n",
      " [10. 10. 10. 10. 10. 10. 10. 10. 10. 10.]]\n"
     ]
    }
   ],
   "source": [
    "# multiplying by any number to get it's own matrix\n",
    "print(10*np.ones([10,10]))"
   ]
  },
  {
   "cell_type": "code",
   "execution_count": 71,
   "id": "30f280d7",
   "metadata": {},
   "outputs": [
    {
     "name": "stdout",
     "output_type": "stream",
     "text": [
      "Random number generation , it uses Uniform Distribution technique\n",
      "--------------------------------------------------------------------------------\n",
      "[[0.22199317 0.87073231 0.20671916 0.91861091 0.48841119]\n",
      " [0.61174386 0.76590786 0.51841799 0.2968005  0.18772123]\n",
      " [0.08074127 0.7384403  0.44130922 0.15830987 0.87993703]\n",
      " [0.27408646 0.41423502 0.29607993 0.62878791 0.57983781]\n",
      " [0.5999292  0.26581912 0.28468588 0.25358821 0.32756395]\n",
      " [0.1441643  0.16561286 0.96393053 0.96022672 0.18841466]\n",
      " [0.02430656 0.20455555 0.69984361 0.77951459 0.02293309]\n",
      " [0.57766286 0.00164217 0.51547261 0.63979518 0.9856244 ]\n",
      " [0.2590976  0.80249689 0.87048309 0.92274961 0.00221421]\n",
      " [0.46948837 0.98146874 0.3989448  0.81373248 0.5464565 ]]\n"
     ]
    }
   ],
   "source": [
    "# SEED method to manipulate the random output\n",
    "np.random.seed(5) # Each seed number will generate similar data to every distinct notebook user\n",
    "print(\"Random number generation , it uses Uniform Distribution technique\")\n",
    "print(\"--\"*40)\n",
    "print(np.random.rand(10,5))"
   ]
  },
  {
   "cell_type": "code",
   "execution_count": 72,
   "id": "49964b0a",
   "metadata": {},
   "outputs": [
    {
     "name": "stdout",
     "output_type": "stream",
     "text": [
      "[[-0.08687561  1.56153229 -0.30585302 -0.47773142  0.10073819]\n",
      " [ 0.35543847  0.26961241  1.29196338  1.13934298  0.4944404 ]\n",
      " [-0.33633626 -0.10061435  1.41339802  0.22125412 -1.31077313]\n",
      " [-0.68956523 -0.57751323  1.15220477 -0.10716398  2.26010677]\n",
      " [ 0.65661947  0.12480683 -0.43570392  0.97217931 -0.24071114]\n",
      " [-0.82412345  0.56813272  0.01275832  1.18906073 -0.07359332]\n",
      " [-2.85968797  0.7893664  -1.87774088  1.53875615  1.82136474]\n",
      " [-0.42703139 -1.16470191 -1.39707402  0.87265462 -0.20211818]\n",
      " [-0.59835993 -0.2434197   2.08851469  0.34691933  0.74572695]\n",
      " [ 0.77690759  1.01842113  1.06135144 -0.71046645 -0.2151878 ]]\n"
     ]
    }
   ],
   "source": [
    "# random.randn() --> it does the random number generation using normal distribution technique i.e MEAN=0 & Std. Deviation=1\n",
    "print(np.random.randn(10,5))"
   ]
  },
  {
   "cell_type": "code",
   "execution_count": 76,
   "id": "8d977471",
   "metadata": {},
   "outputs": [
    {
     "name": "stdout",
     "output_type": "stream",
     "text": [
      "Random integer vector :  [[45 15 43 23 29]\n",
      " [15 46 20 41 34]\n",
      " [43 26 34 18 38]\n",
      " [18 46 17 44 33]\n",
      " [22 15 16 45 42]\n",
      " [46 44 21 22 29]\n",
      " [24 22 40 41 46]\n",
      " [29 19 36 25 19]\n",
      " [47 32 18 30 32]\n",
      " [38 26 45 41 23]]\n"
     ]
    }
   ],
   "source": [
    "# printing vector(one dimentional) by using random.randint() random sampling method --> arguments passed are low(included)/high(excluded)/size\n",
    "print(\"Random integer vector : \",np.random.randint(15,50,(10,5)))"
   ]
  },
  {
   "cell_type": "code",
   "execution_count": 87,
   "id": "3ab5edaa",
   "metadata": {},
   "outputs": [],
   "source": [
    "# A REAL TIME EXAMPLE OF RANDOM SAMPLING : OTP GENERATION METHOD\n",
    "def otp_generation():\n",
    "    otp = np.random.randint(1000,10000,1)\n",
    "    print(\"Your Generated OTP is = \",otp)\n",
    "    user_otp = int(input(\"Enter OTP Here: \"))\n",
    "    if otp == user_otp:\n",
    "        print(\"Correct OTP! You are successfully logged in\")\n",
    "    else:\n",
    "        print(\"Your OTP is Invalid! Enter A Valid OTP to LogIn\")"
   ]
  },
  {
   "cell_type": "code",
   "execution_count": 88,
   "id": "7b76f1ab",
   "metadata": {},
   "outputs": [
    {
     "name": "stdout",
     "output_type": "stream",
     "text": [
      "Your Generated OTP is =  [8193]\n",
      "Enter OTP Here: 8193\n",
      "Correct OTP! You are successfully logged in\n"
     ]
    }
   ],
   "source": [
    "otp_generation()"
   ]
  },
  {
   "cell_type": "code",
   "execution_count": null,
   "id": "50a44a77",
   "metadata": {},
   "outputs": [],
   "source": []
  }
 ],
 "metadata": {
  "kernelspec": {
   "display_name": "Python 3 (ipykernel)",
   "language": "python",
   "name": "python3"
  },
  "language_info": {
   "codemirror_mode": {
    "name": "ipython",
    "version": 3
   },
   "file_extension": ".py",
   "mimetype": "text/x-python",
   "name": "python",
   "nbconvert_exporter": "python",
   "pygments_lexer": "ipython3",
   "version": "3.11.4"
  }
 },
 "nbformat": 4,
 "nbformat_minor": 5
}
